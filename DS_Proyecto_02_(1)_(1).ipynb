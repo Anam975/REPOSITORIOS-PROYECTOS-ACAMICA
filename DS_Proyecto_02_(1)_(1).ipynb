{
  "nbformat": 4,
  "nbformat_minor": 0,
  "metadata": {
    "colab": {
      "name": "DS_Proyecto_02 (1) (1).ipynb",
      "provenance": [],
      "collapsed_sections": [],
      "toc_visible": true
    },
    "kernelspec": {
      "display_name": "Python 3",
      "language": "python",
      "name": "python3"
    },
    "language_info": {
      "codemirror_mode": {
        "name": "ipython",
        "version": 3
      },
      "file_extension": ".py",
      "mimetype": "text/x-python",
      "name": "python",
      "nbconvert_exporter": "python",
      "pygments_lexer": "ipython3",
      "version": "3.8.3"
    },
    "accelerator": "GPU"
  },
  "cells": [
    {
      "cell_type": "markdown",
      "metadata": {
        "id": "38tA-ErIC4OD"
      },
      "source": [
        "# Proyecto 2: Análisis de mercado inmobiliario\n",
        "\n",
        "**Presentado por: Anamaria Garcia Daza**\n",
        "\n",
        "**PARTE A - Transformación de Datos**\n",
        "\n",
        "Elige cuáles de las siguientes tareas son apropiadas para su dataset. Implementa las transformaciones que elegiste. Es importante que justifiques por qué las haces:\n",
        "\n",
        "Detección y eliminación de Outliers\n",
        "\n",
        "Encoding\n",
        "\n",
        "Imputación de valores faltantes\n",
        "\n",
        "Escalado de datos\n",
        "\n",
        "Generación de nuevas variables predictoras/reducción de dimensionalidad (SVD/PCA).\n",
        "\n",
        "Vuelve a entrenar el modelo implementado en la Entrega 01 - en particular, el árbol de decisión - con este nuevo dataset transformado . Evalúa su desempeño a partir del dataset obtenido luego de transformar los datos. ¿Hay una mejora en su desempeño? Compara con el desempeño obtenido en el proyecto 01. Sea cual sea la respuesta, intenta explicar a qué se debe.\n",
        "\n",
        "**PARTE B - Modelos Avanzados**\n",
        "\n",
        "Elige dos de los modelos avanzados vistos Compara con el desempeño obtenido en el proyecto 01 (en el caso de regresión, considera una regresión lineal con atributos polinómicos y regularización). Entrénalos y evalúalos con sus argumentos por defecto. No te olvides de hacer un train/test split y usar Validación Cruzada.\n",
        "\n",
        "Optimiza sus hiperparámetros mediante Validación Cruzada y Grid Search o Random Search.\n",
        "\n",
        "Compara el desempeño de los nuevos modelos entre sí y con el modelo de la Parte A. ¿Cuál elegirías? Justifica.\n",
        "\n",
        "**PARTE C - Interpretación de modelos**\n",
        "\n",
        "De acuerdo a lo que el modelo permite, responde algunas o todas las siguientes preguntas:\n",
        "\n",
        "¿Qué variables fueron relevantes para el modelo para hacer una predicción? ¿Cuáles no? Si usaste una regresión lineal con regularización, presta atención a los parámetros (pendientes) obtenidas. Si usaste un modelo de ensamble en árboles, además de ver la importancia de cada atributo, también elige algunos árboles al azar y observa qué atributos considera importantes. ¿En qué se diferencian esos árboles? ¿Por qué? Finalmente, responde, ¿coincide con lo que esperabas a partir de tu experiencia con este dataset?\n",
        "\n",
        "¿Cómo es la distribución de errores (regresión) o qué clases se confunden entre sí (clasificación)? ¿Dónde falla? ¿A qué se debe?\n",
        "\n",
        "**DESAFÍO OPCIONAL**\n",
        "\n",
        "Aplica una técnica de Clustering sobre el dataset. Puedes combinar con técnicas de reducción de dimensionalidad para facilitar la visualización. ¿Qué clusters encuentras? ¿A qué pueden corresponder? Te dejamos preguntas que pueden servir como disparadoras: ¿qué barrios se parecen más entre sí?¿qué tipos de propiedades se parecen más entre sí?\n"
      ]
    },
    {
      "cell_type": "code",
      "metadata": {
        "colab": {
          "base_uri": "https://localhost:8080/"
        },
        "id": "7-xt31sifeXd",
        "outputId": "88c2796e-fcb2-440c-f1ef-4c9a3901f052"
      },
      "source": [
        "from google.colab import drive\n",
        "drive.mount('/content/drive')"
      ],
      "execution_count": null,
      "outputs": [
        {
          "output_type": "stream",
          "text": [
            "Mounted at /content/drive\n"
          ],
          "name": "stdout"
        }
      ]
    },
    {
      "cell_type": "markdown",
      "metadata": {
        "id": "oj6gbm-5C4OF"
      },
      "source": [
        "**Checklist de evaluación** \n",
        "\n",
        "**Sugerencias para desarrollar el proyecto:\n",
        "\n",
        "Este proyecto no cuenta con mínimos entregables indicados en la consigna, pero ten en cuenta lo siguiente:\n",
        "en la Parte A debes implementar al menos tres de las transformaciones de datos propuestas.\n",
        "en la Parte B, al menos un modelo debe ser optimizado por Grid Search o Random Search; el otro puede ser optimizado por búsqueda manual (es decir, puedes dejar los mejores parámetros que encontraste probando ).\n",
        "en la Parte C, debes responder al menos una pregunta. Obviamente, ¡cuanto más hagas, más aprenderás y mejor será tu proyecto!\n",
        "\n",
        "La resolución del proyecto te puede enfrentar a pequeños desafíos que no trabajamos durante los encuentros. Es importante que desarrolles la capacidad de resolverlos. Para ello, consulta las bitácoras, las referencias, los notebooks vistos en clase, la documentación de la librería y, sobre todo, googlea .\n",
        "\n",
        "Antes de subir tu proyecto a la plataforma Acámica para que sea evaluado, verifica que el Notebook se ejecute sin errores. Además, asegúrate de cumplir con las siguientes condiciones (son las que los/as evaluadores/as tendrán en consideración al momento de corregir tu trabajo):\n",
        "\n",
        "**PARTE A - Transformación de Datos**\n",
        "\n",
        "Debes justificar por qué creés que las transformaciones elegidas aplican en este dataset. Ten en cuenta que, en el manejo de valores atípicos o en la imputación de valores faltantes, los valores obtenidos deben tener sentido. Por ejemplo, valores mayores que cero para superficies, número de baños, etc.\n",
        "\n",
        "Debes re entrenar un modelo del Proyecto 01 y comparar su desempeño con el modelo obtenido en el Proyecto 01. Una aclaración: con reentrenar nos referimos a usar el mismo proceso de entrenamiento junto con sus hiperparámetros. Pero puede ocurrir - y, de hecho, se espera - que el dataset contenga más atributos que los utilizados en el Proyecto 01.\n",
        "\n",
        "**PARTE B - Modelos Avanzados**\n",
        "\n",
        "En la optimización de hiperparámetros, debes justificar los parámetros que elegiste para optimizar y el rango de cada uno.\n",
        "\n",
        "**PARTE C - Interpretación de modelos**\n",
        "\n",
        "Debes estudiar qué variables utiliza el modelo para predecir y responder la pregunta: ¿coincide con lo que esperabas a partir de tu experiencia con este dataset?\n",
        "\n",
        "Es muy importante que analices los errores del modelo. ¿Dónde es mayor el error? ¿dónde acierta?\n",
        "\n",
        "Debes ser crítico/a con la metodología utilizada. ¿Qué mejorarías? Ten en cuenta siempre terminar con una discusión sobre lo realizado y conclusiones obtenidas."
      ]
    },
    {
      "cell_type": "markdown",
      "metadata": {
        "id": "wfyEgpsONzTm"
      },
      "source": [
        "---\n",
        "\n",
        "<br />\n",
        "<br />\n",
        "\n",
        "# PARTE A Transformación de Datos\n",
        "<br />\n",
        "<br />\n",
        "\n",
        "---"
      ]
    },
    {
      "cell_type": "markdown",
      "metadata": {
        "id": "LvPBQzg5C4OI"
      },
      "source": [
        "###  Análisis Exploratorio de Datos\n",
        "\n",
        "\n"
      ]
    },
    {
      "cell_type": "code",
      "metadata": {
        "id": "fCGVacN5C4OM"
      },
      "source": [
        "import pandas as pd\n",
        "import numpy as np\n"
      ],
      "execution_count": null,
      "outputs": []
    },
    {
      "cell_type": "code",
      "metadata": {
        "cellView": "code",
        "colab": {
          "base_uri": "https://localhost:8080/",
          "height": 503
        },
        "id": "YL2eAd_tC4Oa",
        "outputId": "b000d787-6ef1-4fa0-fc83-cb1a4f9fbe67"
      },
      "source": [
        "\n",
        "data = pd.read_csv('/content/sample_data/DS_Proyecto_01_Datos_Properati.csv')\n",
        "data.head()\n"
      ],
      "execution_count": null,
      "outputs": [
        {
          "output_type": "execute_result",
          "data": {
            "text/html": [
              "<div>\n",
              "<style scoped>\n",
              "    .dataframe tbody tr th:only-of-type {\n",
              "        vertical-align: middle;\n",
              "    }\n",
              "\n",
              "    .dataframe tbody tr th {\n",
              "        vertical-align: top;\n",
              "    }\n",
              "\n",
              "    .dataframe thead th {\n",
              "        text-align: right;\n",
              "    }\n",
              "</style>\n",
              "<table border=\"1\" class=\"dataframe\">\n",
              "  <thead>\n",
              "    <tr style=\"text-align: right;\">\n",
              "      <th></th>\n",
              "      <th>start_date</th>\n",
              "      <th>end_date</th>\n",
              "      <th>created_on</th>\n",
              "      <th>lat</th>\n",
              "      <th>lon</th>\n",
              "      <th>l1</th>\n",
              "      <th>l2</th>\n",
              "      <th>l3</th>\n",
              "      <th>rooms</th>\n",
              "      <th>bedrooms</th>\n",
              "      <th>bathrooms</th>\n",
              "      <th>surface_total</th>\n",
              "      <th>surface_covered</th>\n",
              "      <th>price</th>\n",
              "      <th>currency</th>\n",
              "      <th>title</th>\n",
              "      <th>description</th>\n",
              "      <th>property_type</th>\n",
              "      <th>operation_type</th>\n",
              "    </tr>\n",
              "  </thead>\n",
              "  <tbody>\n",
              "    <tr>\n",
              "      <th>0</th>\n",
              "      <td>2019-10-17</td>\n",
              "      <td>2019-12-23</td>\n",
              "      <td>2019-10-17</td>\n",
              "      <td>-34.605880</td>\n",
              "      <td>-58.384949</td>\n",
              "      <td>Argentina</td>\n",
              "      <td>Capital Federal</td>\n",
              "      <td>San Cristobal</td>\n",
              "      <td>7.0</td>\n",
              "      <td>7.0</td>\n",
              "      <td>2.0</td>\n",
              "      <td>140.0</td>\n",
              "      <td>140.0</td>\n",
              "      <td>153000.0</td>\n",
              "      <td>USD</td>\n",
              "      <td>***Venta semipiso centro, ideal hostel*****</td>\n",
              "      <td>DESCRIPCION DE LA PROPIEDAD: Departamento de 1...</td>\n",
              "      <td>Departamento</td>\n",
              "      <td>Venta</td>\n",
              "    </tr>\n",
              "    <tr>\n",
              "      <th>1</th>\n",
              "      <td>2019-10-17</td>\n",
              "      <td>2019-11-21</td>\n",
              "      <td>2019-10-17</td>\n",
              "      <td>-34.624056</td>\n",
              "      <td>-58.412110</td>\n",
              "      <td>Argentina</td>\n",
              "      <td>Capital Federal</td>\n",
              "      <td>Boedo</td>\n",
              "      <td>2.0</td>\n",
              "      <td>1.0</td>\n",
              "      <td>2.0</td>\n",
              "      <td>70.0</td>\n",
              "      <td>58.0</td>\n",
              "      <td>159000.0</td>\n",
              "      <td>USD</td>\n",
              "      <td>Espectacular PH reciclado en Boedo sin expensas.</td>\n",
              "      <td>PH reciclado en Boedo a una cuadra de la plaz...</td>\n",
              "      <td>PH</td>\n",
              "      <td>Venta</td>\n",
              "    </tr>\n",
              "    <tr>\n",
              "      <th>2</th>\n",
              "      <td>2019-10-17</td>\n",
              "      <td>2019-11-01</td>\n",
              "      <td>2019-10-17</td>\n",
              "      <td>-34.593569</td>\n",
              "      <td>-58.427474</td>\n",
              "      <td>Argentina</td>\n",
              "      <td>Capital Federal</td>\n",
              "      <td>Palermo</td>\n",
              "      <td>2.0</td>\n",
              "      <td>1.0</td>\n",
              "      <td>1.0</td>\n",
              "      <td>45.0</td>\n",
              "      <td>45.0</td>\n",
              "      <td>125000.0</td>\n",
              "      <td>USD</td>\n",
              "      <td>Depto.tipo casa de 2 ambientes en Venta en Pal...</td>\n",
              "      <td>2 ambienets amplio , excelente estado , patio ...</td>\n",
              "      <td>PH</td>\n",
              "      <td>Venta</td>\n",
              "    </tr>\n",
              "    <tr>\n",
              "      <th>3</th>\n",
              "      <td>2019-10-17</td>\n",
              "      <td>2019-12-23</td>\n",
              "      <td>2019-10-17</td>\n",
              "      <td>-34.581294</td>\n",
              "      <td>-58.436754</td>\n",
              "      <td>Argentina</td>\n",
              "      <td>Capital Federal</td>\n",
              "      <td>Palermo</td>\n",
              "      <td>2.0</td>\n",
              "      <td>1.0</td>\n",
              "      <td>1.0</td>\n",
              "      <td>85.0</td>\n",
              "      <td>50.0</td>\n",
              "      <td>295000.0</td>\n",
              "      <td>USD</td>\n",
              "      <td>COSTA RICA 5800 / PALERMO HOLLYWOOD / VENTA PH...</td>\n",
              "      <td>HERMOSO PH EN PALERMO!!!2 AMBIENTES TOTALMENTE...</td>\n",
              "      <td>PH</td>\n",
              "      <td>Venta</td>\n",
              "    </tr>\n",
              "    <tr>\n",
              "      <th>4</th>\n",
              "      <td>2019-10-17</td>\n",
              "      <td>2020-03-11</td>\n",
              "      <td>2019-10-17</td>\n",
              "      <td>-34.914194</td>\n",
              "      <td>-57.938219</td>\n",
              "      <td>Argentina</td>\n",
              "      <td>Bs.As. G.B.A. Zona Sur</td>\n",
              "      <td>La Plata</td>\n",
              "      <td>2.0</td>\n",
              "      <td>1.0</td>\n",
              "      <td>1.0</td>\n",
              "      <td>50.0</td>\n",
              "      <td>35.0</td>\n",
              "      <td>40000.0</td>\n",
              "      <td>USD</td>\n",
              "      <td>58 entre 1 y 2  Venta de departamento en ph.1 ...</td>\n",
              "      <td>58 entre 1 y 2  Venta de departamento en PH. P...</td>\n",
              "      <td>PH</td>\n",
              "      <td>Venta</td>\n",
              "    </tr>\n",
              "  </tbody>\n",
              "</table>\n",
              "</div>"
            ],
            "text/plain": [
              "   start_date    end_date  ... property_type  operation_type\n",
              "0  2019-10-17  2019-12-23  ...  Departamento           Venta\n",
              "1  2019-10-17  2019-11-21  ...            PH           Venta\n",
              "2  2019-10-17  2019-11-01  ...            PH           Venta\n",
              "3  2019-10-17  2019-12-23  ...            PH           Venta\n",
              "4  2019-10-17  2020-03-11  ...            PH           Venta\n",
              "\n",
              "[5 rows x 19 columns]"
            ]
          },
          "metadata": {
            "tags": []
          },
          "execution_count": 2
        }
      ]
    },
    {
      "cell_type": "code",
      "metadata": {
        "id": "9WFBaGnmzQRw",
        "colab": {
          "base_uri": "https://localhost:8080/"
        },
        "outputId": "2ec25116-3901-4392-dadd-cf6a436910d8"
      },
      "source": [
        "data.shape"
      ],
      "execution_count": null,
      "outputs": [
        {
          "output_type": "execute_result",
          "data": {
            "text/plain": [
              "(146660, 19)"
            ]
          },
          "metadata": {
            "tags": []
          },
          "execution_count": 3
        }
      ]
    },
    {
      "cell_type": "markdown",
      "metadata": {
        "id": "BJ-XiUsvC4Oh"
      },
      "source": [
        " **Elimine columnas que no tienen mayor impacto en el dataset como 'l1' y 'currency, ya que presentan el mismo caracter en todas sus filas**"
      ]
    },
    {
      "cell_type": "code",
      "metadata": {
        "colab": {
          "base_uri": "https://localhost:8080/"
        },
        "id": "8iFUv5irzQRx",
        "outputId": "6e75e591-5494-42ea-d0fa-209df365b7e4"
      },
      "source": [
        "df=data.drop(['l1', 'currency', 'operation_type'], axis=1)\n",
        "df.shape"
      ],
      "execution_count": null,
      "outputs": [
        {
          "output_type": "execute_result",
          "data": {
            "text/plain": [
              "(146660, 16)"
            ]
          },
          "metadata": {
            "tags": []
          },
          "execution_count": 4
        }
      ]
    },
    {
      "cell_type": "markdown",
      "metadata": {
        "id": "BfXeI3mMzQRy"
      },
      "source": [
        " **Visibilizando los tipo de propiedad que estan presenten en gran parte de nuestro data**"
      ]
    },
    {
      "cell_type": "markdown",
      "metadata": {
        "id": "npEWq7gX3TUd"
      },
      "source": [
        ""
      ]
    },
    {
      "cell_type": "code",
      "metadata": {
        "colab": {
          "base_uri": "https://localhost:8080/",
          "height": 510
        },
        "id": "KUNPhwmizQRy",
        "outputId": "d2c948c1-3e92-489e-bf05-26d354a5a0bf"
      },
      "source": [
        "import seaborn as sns\n",
        "import numpy as np\n",
        "#Mirar tipo de propiedad\n",
        "\n",
        "chart=sns.countplot(x=\"property_type\", data=data, order=['Departamento', 'PH', 'Casa', 'Lote', 'Casa de campo', 'Oficina',\n",
        "       'Otro', 'Local comercial', 'Cochera', 'Depósito'])\n",
        "chart.set_xticklabels(chart.get_xticklabels(), rotation=90)"
      ],
      "execution_count": null,
      "outputs": [
        {
          "output_type": "execute_result",
          "data": {
            "text/plain": [
              "[Text(0, 0, 'Departamento'),\n",
              " Text(0, 0, 'PH'),\n",
              " Text(0, 0, 'Casa'),\n",
              " Text(0, 0, 'Lote'),\n",
              " Text(0, 0, 'Casa de campo'),\n",
              " Text(0, 0, 'Oficina'),\n",
              " Text(0, 0, 'Otro'),\n",
              " Text(0, 0, 'Local comercial'),\n",
              " Text(0, 0, 'Cochera'),\n",
              " Text(0, 0, 'Depósito')]"
            ]
          },
          "metadata": {
            "tags": []
          },
          "execution_count": 5
        },
        {
          "output_type": "display_data",
          "data": {
            "image/png": "[encoded data removed]",
            "text/plain": [
              "<Figure size 432x288 with 1 Axes>"
            ]
          },
          "metadata": {
            "tags": [],
            "needs_background": "light"
          }
        }
      ]
    },
    {
      "cell_type": "markdown",
      "metadata": {
        "id": "61dW6tSCzQRz"
      },
      "source": [
        " **Averigue en el dataset los valores Faltantes**"
      ]
    },
    {
      "cell_type": "code",
      "metadata": {
        "colab": {
          "base_uri": "https://localhost:8080/"
        },
        "id": "aOMKHDfvzQRz",
        "outputId": "6b832ced-a7bf-4805-e1c6-0eeae24b7a02"
      },
      "source": [
        "#Valores faltantes por columna uso funcion isna\n",
        "print(df.isna().sum())"
      ],
      "execution_count": null,
      "outputs": [
        {
          "output_type": "stream",
          "text": [
            "start_date             0\n",
            "end_date               0\n",
            "created_on             0\n",
            "lat                 9925\n",
            "lon                 9959\n",
            "l2                     0\n",
            "l3                     0\n",
            "rooms                  0\n",
            "bedrooms               0\n",
            "bathrooms           5957\n",
            "surface_total      20527\n",
            "surface_covered    21614\n",
            "price                  0\n",
            "title                  0\n",
            "description            0\n",
            "property_type          0\n",
            "dtype: int64\n"
          ],
          "name": "stdout"
        }
      ]
    },
    {
      "cell_type": "markdown",
      "metadata": {
        "id": "zmHRGis7C4Ow"
      },
      "source": [
        "-Verifico que en mis columnas que tienen datos faltantes (lat,lon,bathrooms,surface_total, surface_covered) son columnas de tipo de datos 'float',por lo tanto al no contener valores nominales en este caso el uso del encoding de pasar los datos a numeros no es necsario."
      ]
    },
    {
      "cell_type": "code",
      "metadata": {
        "colab": {
          "base_uri": "https://localhost:8080/"
        },
        "id": "yFiQGDGIzQR0",
        "outputId": "7492ce2f-6150-4517-e193-4ea8667272ce"
      },
      "source": [
        "df.info()"
      ],
      "execution_count": null,
      "outputs": [
        {
          "output_type": "stream",
          "text": [
            "<class 'pandas.core.frame.DataFrame'>\n",
            "RangeIndex: 146660 entries, 0 to 146659\n",
            "Data columns (total 16 columns):\n",
            " #   Column           Non-Null Count   Dtype  \n",
            "---  ------           --------------   -----  \n",
            " 0   start_date       146660 non-null  object \n",
            " 1   end_date         146660 non-null  object \n",
            " 2   created_on       146660 non-null  object \n",
            " 3   lat              136735 non-null  float64\n",
            " 4   lon              136701 non-null  float64\n",
            " 5   l2               146660 non-null  object \n",
            " 6   l3               146660 non-null  object \n",
            " 7   rooms            146660 non-null  float64\n",
            " 8   bedrooms         146660 non-null  float64\n",
            " 9   bathrooms        140703 non-null  float64\n",
            " 10  surface_total    126133 non-null  float64\n",
            " 11  surface_covered  125046 non-null  float64\n",
            " 12  price            146660 non-null  float64\n",
            " 13  title            146660 non-null  object \n",
            " 14  description      146660 non-null  object \n",
            " 15  property_type    146660 non-null  object \n",
            "dtypes: float64(8), object(8)\n",
            "memory usage: 17.9+ MB\n"
          ],
          "name": "stdout"
        }
      ]
    },
    {
      "cell_type": "markdown",
      "metadata": {
        "id": "IPCvym13zQR1"
      },
      "source": [
        "Utilice la \"imputacion de valores faltantes\" con la funcion fillna, ya que al ser valores float, coloque en los datos faltantes -realice una interpolacion- de los valores de la  columna para poder evaluar su comportamiento,teniendo presente el anterior proyecto se realizo una eliminacion total de los mismos, sobretodo en la columna 'bathrooms', es importante conocer en estas instancias que puede haber sucedido si existiera este valor. "
      ]
    },
    {
      "cell_type": "code",
      "metadata": {
        "id": "U0TX5aEfzQR1"
      },
      "source": [
        "#df.fillna(df.mean())\n",
        "#inplace=True)\n",
        "#df1 = df.fillna(df.median())#averiguar si puedo colocar el proemdio de los valores de la columna o interpolar\n",
        "#print(df1.isna().sum())\n",
        "#df1.shape"
      ],
      "execution_count": null,
      "outputs": []
    },
    {
      "cell_type": "code",
      "metadata": {
        "colab": {
          "base_uri": "https://localhost:8080/"
        },
        "id": "taCI90uvzQR1",
        "outputId": "b9981203-92f9-4ac8-fed5-8c765bcf2dde"
      },
      "source": [
        "#df[]. replace(1, inplace-True)\n",
        "df1=df.fillna(1).interpolate()\n",
        "#df1=df.fillna(1).mean()\n",
        "print(df1.isna().sum())"
      ],
      "execution_count": null,
      "outputs": [
        {
          "output_type": "stream",
          "text": [
            "start_date         0\n",
            "end_date           0\n",
            "created_on         0\n",
            "lat                0\n",
            "lon                0\n",
            "l2                 0\n",
            "l3                 0\n",
            "rooms              0\n",
            "bedrooms           0\n",
            "bathrooms          0\n",
            "surface_total      0\n",
            "surface_covered    0\n",
            "price              0\n",
            "title              0\n",
            "description        0\n",
            "property_type      0\n",
            "dtype: int64\n"
          ],
          "name": "stdout"
        }
      ]
    },
    {
      "cell_type": "code",
      "metadata": {
        "colab": {
          "base_uri": "https://localhost:8080/"
        },
        "id": "UcWxjOU3zQR2",
        "outputId": "d07495ee-0c2e-4595-e08f-3d5c7f83592e"
      },
      "source": [
        "df1.bedrooms.replace(0,1)"
      ],
      "execution_count": null,
      "outputs": [
        {
          "output_type": "execute_result",
          "data": {
            "text/plain": [
              "0         7.0\n",
              "1         1.0\n",
              "2         1.0\n",
              "3         1.0\n",
              "4         1.0\n",
              "         ... \n",
              "146655    1.0\n",
              "146656    3.0\n",
              "146657    1.0\n",
              "146658    1.0\n",
              "146659    2.0\n",
              "Name: bedrooms, Length: 146660, dtype: float64"
            ]
          },
          "metadata": {
            "tags": []
          },
          "execution_count": 10
        }
      ]
    },
    {
      "cell_type": "markdown",
      "metadata": {
        "id": "fzDXC875C4Oo"
      },
      "source": [
        " **DATOS ATIPICOS O OUTLIERS**, se realiza una exploracion de datos de las siguientes columnas"
      ]
    },
    {
      "cell_type": "code",
      "metadata": {
        "colab": {
          "base_uri": "https://localhost:8080/"
        },
        "id": "fBlfAQ1QzQR2",
        "outputId": "5eb01e76-6327-49c7-8b9f-da32d2ff557a"
      },
      "source": [
        "mascara= df1[(df1.property_type.isin([\"Departamento\",\"PH\",\"Casa\"])) &\n",
        "             (df1.l2.isin([\"Capital Federal\"]))]\n",
        "\n",
        "print(\"property_type:\", mascara[\"property_type\"].unique())\n",
        "print(\"l2: \", mascara[\"l2\"].unique())"
      ],
      "execution_count": null,
      "outputs": [
        {
          "output_type": "stream",
          "text": [
            "property_type: ['Departamento' 'PH' 'Casa']\n",
            "l2:  ['Capital Federal']\n"
          ],
          "name": "stdout"
        }
      ]
    },
    {
      "cell_type": "code",
      "metadata": {
        "colab": {
          "base_uri": "https://localhost:8080/",
          "height": 277
        },
        "id": "WLRVWhM2zQR3",
        "outputId": "19f9dfe2-196d-4e0b-8ac5-714464346190"
      },
      "source": [
        "df2=mascara[['lat', 'lon', 'rooms', 'bedrooms', 'bathrooms', 'surface_total', 'surface_covered', 'price','property_type']] \n",
        "df2.describe()"
      ],
      "execution_count": null,
      "outputs": [
        {
          "output_type": "execute_result",
          "data": {
            "text/html": [
              "<div>\n",
              "<style scoped>\n",
              "    .dataframe tbody tr th:only-of-type {\n",
              "        vertical-align: middle;\n",
              "    }\n",
              "\n",
              "    .dataframe tbody tr th {\n",
              "        vertical-align: top;\n",
              "    }\n",
              "\n",
              "    .dataframe thead th {\n",
              "        text-align: right;\n",
              "    }\n",
              "</style>\n",
              "<table border=\"1\" class=\"dataframe\">\n",
              "  <thead>\n",
              "    <tr style=\"text-align: right;\">\n",
              "      <th></th>\n",
              "      <th>lat</th>\n",
              "      <th>lon</th>\n",
              "      <th>rooms</th>\n",
              "      <th>bedrooms</th>\n",
              "      <th>bathrooms</th>\n",
              "      <th>surface_total</th>\n",
              "      <th>surface_covered</th>\n",
              "      <th>price</th>\n",
              "    </tr>\n",
              "  </thead>\n",
              "  <tbody>\n",
              "    <tr>\n",
              "      <th>count</th>\n",
              "      <td>91485.000000</td>\n",
              "      <td>91485.000000</td>\n",
              "      <td>91485.000000</td>\n",
              "      <td>91485.000000</td>\n",
              "      <td>91485.000000</td>\n",
              "      <td>91485.000000</td>\n",
              "      <td>91485.000000</td>\n",
              "      <td>9.148500e+04</td>\n",
              "    </tr>\n",
              "    <tr>\n",
              "      <th>mean</th>\n",
              "      <td>-32.834789</td>\n",
              "      <td>-55.481256</td>\n",
              "      <td>2.964278</td>\n",
              "      <td>1.960278</td>\n",
              "      <td>1.546855</td>\n",
              "      <td>101.746199</td>\n",
              "      <td>85.480833</td>\n",
              "      <td>2.595003e+05</td>\n",
              "    </tr>\n",
              "    <tr>\n",
              "      <th>std</th>\n",
              "      <td>7.726295</td>\n",
              "      <td>12.918624</td>\n",
              "      <td>1.314704</td>\n",
              "      <td>1.072946</td>\n",
              "      <td>0.854305</td>\n",
              "      <td>932.281228</td>\n",
              "      <td>738.718488</td>\n",
              "      <td>3.222654e+05</td>\n",
              "    </tr>\n",
              "    <tr>\n",
              "      <th>min</th>\n",
              "      <td>-34.696419</td>\n",
              "      <td>-58.530468</td>\n",
              "      <td>1.000000</td>\n",
              "      <td>0.000000</td>\n",
              "      <td>1.000000</td>\n",
              "      <td>1.000000</td>\n",
              "      <td>1.000000</td>\n",
              "      <td>6.000000e+03</td>\n",
              "    </tr>\n",
              "    <tr>\n",
              "      <th>25%</th>\n",
              "      <td>-34.612822</td>\n",
              "      <td>-58.457320</td>\n",
              "      <td>2.000000</td>\n",
              "      <td>1.000000</td>\n",
              "      <td>1.000000</td>\n",
              "      <td>43.000000</td>\n",
              "      <td>40.000000</td>\n",
              "      <td>1.200000e+05</td>\n",
              "    </tr>\n",
              "    <tr>\n",
              "      <th>50%</th>\n",
              "      <td>-34.598136</td>\n",
              "      <td>-58.431416</td>\n",
              "      <td>3.000000</td>\n",
              "      <td>2.000000</td>\n",
              "      <td>1.000000</td>\n",
              "      <td>66.000000</td>\n",
              "      <td>58.000000</td>\n",
              "      <td>1.750000e+05</td>\n",
              "    </tr>\n",
              "    <tr>\n",
              "      <th>75%</th>\n",
              "      <td>-34.580059</td>\n",
              "      <td>-58.405752</td>\n",
              "      <td>4.000000</td>\n",
              "      <td>3.000000</td>\n",
              "      <td>2.000000</td>\n",
              "      <td>104.000000</td>\n",
              "      <td>90.000000</td>\n",
              "      <td>2.790000e+05</td>\n",
              "    </tr>\n",
              "    <tr>\n",
              "      <th>max</th>\n",
              "      <td>1.000000</td>\n",
              "      <td>1.000000</td>\n",
              "      <td>26.000000</td>\n",
              "      <td>15.000000</td>\n",
              "      <td>14.000000</td>\n",
              "      <td>126062.000000</td>\n",
              "      <td>126062.000000</td>\n",
              "      <td>3.243423e+07</td>\n",
              "    </tr>\n",
              "  </tbody>\n",
              "</table>\n",
              "</div>"
            ],
            "text/plain": [
              "                lat           lon  ...  surface_covered         price\n",
              "count  91485.000000  91485.000000  ...     91485.000000  9.148500e+04\n",
              "mean     -32.834789    -55.481256  ...        85.480833  2.595003e+05\n",
              "std        7.726295     12.918624  ...       738.718488  3.222654e+05\n",
              "min      -34.696419    -58.530468  ...         1.000000  6.000000e+03\n",
              "25%      -34.612822    -58.457320  ...        40.000000  1.200000e+05\n",
              "50%      -34.598136    -58.431416  ...        58.000000  1.750000e+05\n",
              "75%      -34.580059    -58.405752  ...        90.000000  2.790000e+05\n",
              "max        1.000000      1.000000  ...    126062.000000  3.243423e+07\n",
              "\n",
              "[8 rows x 8 columns]"
            ]
          },
          "metadata": {
            "tags": []
          },
          "execution_count": 16
        }
      ]
    },
    {
      "cell_type": "code",
      "metadata": {
        "colab": {
          "base_uri": "https://localhost:8080/",
          "height": 363
        },
        "id": "Xtw5aHBDzQR3",
        "outputId": "0c402677-ac98-4824-e022-82bd90b2fa4c"
      },
      "source": [
        "#En el siguiente grafica como los outliers pueden afectar la visibilidad en cuanto al analisis apropiado, de una parte de nuestro data frame:\n",
        "import seaborn as sns\n",
        "import  matplotlib.pyplot  as plt\n",
        "import numpy as np\n",
        "\n",
        "df3=df2.plot.box()\n",
        "fig=plt.figure(figsize=(3000,1500))\n",
        "df3.set_xticklabels(df3.get_xticklabels(), rotation=90)\n",
        "plt.show()"
      ],
      "execution_count": null,
      "outputs": [
        {
          "output_type": "display_data",
          "data": {
            "image/png": "[encoded data removed]",
            "text/plain": [
              "<Figure size 432x288 with 1 Axes>"
            ]
          },
          "metadata": {
            "tags": [],
            "needs_background": "light"
          }
        },
        {
          "output_type": "display_data",
          "data": {
            "text/plain": [
              "<Figure size 216000x108000 with 0 Axes>"
            ]
          },
          "metadata": {
            "tags": []
          }
        }
      ]
    },
    {
      "cell_type": "code",
      "metadata": {
        "colab": {
          "base_uri": "https://localhost:8080/",
          "height": 353
        },
        "id": "B_3PufZ7zQR4",
        "outputId": "069e04b5-dac5-4b12-f5ba-3d3e8540a3bc"
      },
      "source": [
        "#En el siguiente grafica se puede visibilizar quitando los outliers que la dipersion de datos, al tener presente que algunos feature tiene valores grande con respecto \n",
        "#a los otros se trato determinar una mirada mas critica respecto al boxplot, los cuales no se pueden en gran medida apreciar todos , pero si determinar la afectacion\n",
        "#y eliminacion de outliers\n",
        "df3=df2.plot.box(showfliers = False)\n",
        "fig=plt.figure(figsize=(50,150))\n",
        "df3.set_xticklabels(df3.get_xticklabels(), rotation=90)\n",
        "plt.show()\n"
      ],
      "execution_count": null,
      "outputs": [
        {
          "output_type": "display_data",
          "data": {
            "image/png": "[encoded data removed]",
            "text/plain": [
              "<Figure size 432x288 with 1 Axes>"
            ]
          },
          "metadata": {
            "tags": [],
            "needs_background": "light"
          }
        },
        {
          "output_type": "display_data",
          "data": {
            "text/plain": [
              "<Figure size 3600x10800 with 0 Axes>"
            ]
          },
          "metadata": {
            "tags": []
          }
        }
      ]
    },
    {
      "cell_type": "code",
      "metadata": {
        "colab": {
          "base_uri": "https://localhost:8080/",
          "height": 277
        },
        "id": "IeJiCwD0zQR4",
        "outputId": "ebc9073b-7b19-4b64-f725-ca03ec8caa49"
      },
      "source": [
        "#Identificammos cuales feature tiene mayor realcion con las demas, siendo \"price\", de mayor importancia frente a este tipo de dataset\n",
        "df2.corr()"
      ],
      "execution_count": null,
      "outputs": [
        {
          "output_type": "execute_result",
          "data": {
            "text/html": [
              "<div>\n",
              "<style scoped>\n",
              "    .dataframe tbody tr th:only-of-type {\n",
              "        vertical-align: middle;\n",
              "    }\n",
              "\n",
              "    .dataframe tbody tr th {\n",
              "        vertical-align: top;\n",
              "    }\n",
              "\n",
              "    .dataframe thead th {\n",
              "        text-align: right;\n",
              "    }\n",
              "</style>\n",
              "<table border=\"1\" class=\"dataframe\">\n",
              "  <thead>\n",
              "    <tr style=\"text-align: right;\">\n",
              "      <th></th>\n",
              "      <th>lat</th>\n",
              "      <th>lon</th>\n",
              "      <th>rooms</th>\n",
              "      <th>bedrooms</th>\n",
              "      <th>bathrooms</th>\n",
              "      <th>surface_total</th>\n",
              "      <th>surface_covered</th>\n",
              "      <th>price</th>\n",
              "    </tr>\n",
              "  </thead>\n",
              "  <tbody>\n",
              "    <tr>\n",
              "      <th>lat</th>\n",
              "      <td>1.000000</td>\n",
              "      <td>0.998369</td>\n",
              "      <td>0.018929</td>\n",
              "      <td>0.017392</td>\n",
              "      <td>0.076440</td>\n",
              "      <td>0.000277</td>\n",
              "      <td>0.001396</td>\n",
              "      <td>0.091386</td>\n",
              "    </tr>\n",
              "    <tr>\n",
              "      <th>lon</th>\n",
              "      <td>0.998369</td>\n",
              "      <td>1.000000</td>\n",
              "      <td>0.019227</td>\n",
              "      <td>0.017635</td>\n",
              "      <td>0.076676</td>\n",
              "      <td>0.000207</td>\n",
              "      <td>0.001328</td>\n",
              "      <td>0.091103</td>\n",
              "    </tr>\n",
              "    <tr>\n",
              "      <th>rooms</th>\n",
              "      <td>0.018929</td>\n",
              "      <td>0.019227</td>\n",
              "      <td>1.000000</td>\n",
              "      <td>0.927300</td>\n",
              "      <td>0.597767</td>\n",
              "      <td>0.064870</td>\n",
              "      <td>0.066894</td>\n",
              "      <td>0.448318</td>\n",
              "    </tr>\n",
              "    <tr>\n",
              "      <th>bedrooms</th>\n",
              "      <td>0.017392</td>\n",
              "      <td>0.017635</td>\n",
              "      <td>0.927300</td>\n",
              "      <td>1.000000</td>\n",
              "      <td>0.596487</td>\n",
              "      <td>0.064115</td>\n",
              "      <td>0.065833</td>\n",
              "      <td>0.413555</td>\n",
              "    </tr>\n",
              "    <tr>\n",
              "      <th>bathrooms</th>\n",
              "      <td>0.076440</td>\n",
              "      <td>0.076676</td>\n",
              "      <td>0.597767</td>\n",
              "      <td>0.596487</td>\n",
              "      <td>1.000000</td>\n",
              "      <td>0.053692</td>\n",
              "      <td>0.055198</td>\n",
              "      <td>0.585593</td>\n",
              "    </tr>\n",
              "    <tr>\n",
              "      <th>surface_total</th>\n",
              "      <td>0.000277</td>\n",
              "      <td>0.000207</td>\n",
              "      <td>0.064870</td>\n",
              "      <td>0.064115</td>\n",
              "      <td>0.053692</td>\n",
              "      <td>1.000000</td>\n",
              "      <td>0.770992</td>\n",
              "      <td>0.049909</td>\n",
              "    </tr>\n",
              "    <tr>\n",
              "      <th>surface_covered</th>\n",
              "      <td>0.001396</td>\n",
              "      <td>0.001328</td>\n",
              "      <td>0.066894</td>\n",
              "      <td>0.065833</td>\n",
              "      <td>0.055198</td>\n",
              "      <td>0.770992</td>\n",
              "      <td>1.000000</td>\n",
              "      <td>0.055373</td>\n",
              "    </tr>\n",
              "    <tr>\n",
              "      <th>price</th>\n",
              "      <td>0.091386</td>\n",
              "      <td>0.091103</td>\n",
              "      <td>0.448318</td>\n",
              "      <td>0.413555</td>\n",
              "      <td>0.585593</td>\n",
              "      <td>0.049909</td>\n",
              "      <td>0.055373</td>\n",
              "      <td>1.000000</td>\n",
              "    </tr>\n",
              "  </tbody>\n",
              "</table>\n",
              "</div>"
            ],
            "text/plain": [
              "                      lat       lon  ...  surface_covered     price\n",
              "lat              1.000000  0.998369  ...         0.001396  0.091386\n",
              "lon              0.998369  1.000000  ...         0.001328  0.091103\n",
              "rooms            0.018929  0.019227  ...         0.066894  0.448318\n",
              "bedrooms         0.017392  0.017635  ...         0.065833  0.413555\n",
              "bathrooms        0.076440  0.076676  ...         0.055198  0.585593\n",
              "surface_total    0.000277  0.000207  ...         0.770992  0.049909\n",
              "surface_covered  0.001396  0.001328  ...         1.000000  0.055373\n",
              "price            0.091386  0.091103  ...         0.055373  1.000000\n",
              "\n",
              "[8 rows x 8 columns]"
            ]
          },
          "metadata": {
            "tags": []
          },
          "execution_count": 19
        }
      ]
    },
    {
      "cell_type": "code",
      "metadata": {
        "colab": {
          "base_uri": "https://localhost:8080/",
          "height": 503
        },
        "id": "ZDl8rvU9zQR5",
        "outputId": "af2c460f-9af2-4d98-986c-ec1dd13db53a"
      },
      "source": [
        "corr = df2.drop(columns = 'price').corr()\n",
        "plt.figure(figsize=(8,8))\n",
        "sns.heatmap(corr, cbar = True,  square = True, annot=True, fmt= '.2f',annot_kws={'size': 15},\n",
        "           xticklabels= df2.drop(columns = 'price').columns, \n",
        "           yticklabels= df2.drop(columns = 'price').columns,\n",
        "           cmap= 'coolwarm')\n",
        "plt.xticks(rotation = 45)\n",
        "plt.yticks(rotation = 45)\n",
        "plt.show()"
      ],
      "execution_count": null,
      "outputs": [
        {
          "output_type": "display_data",
          "data": {
            "image/png": "[encoded data removed]",
            "text/plain": [
              "<Figure size 576x576 with 2 Axes>"
            ]
          },
          "metadata": {
            "tags": [],
            "needs_background": "light"
          }
        }
      ]
    },
    {
      "cell_type": "markdown",
      "metadata": {
        "id": "emF142TJzQR5"
      },
      "source": [
        "**REGLA DE LAS TRES SIGMAS= Se implemento la regla de las tres sigmas para cada una de las columnas de nuestro dataframe,donde destaque estas colummnas al ser mas relacionadas entre si,  y su vez determinar, cuales y en cuanta cantidad se encuentran  presenten los mayores outliers en el comportamiento de datos de  nuestro dataset, asi mismo analizarlos."
      ]
    },
    {
      "cell_type": "markdown",
      "metadata": {
        "id": "xqGJW4dLzQR6"
      },
      "source": [
        " **ENCODING-variables dummies**"
      ]
    },
    {
      "cell_type": "code",
      "metadata": {
        "id": "dj2rMLXDzQR6"
      },
      "source": [
        "df3 = pd.get_dummies(df2, prefix='property_type_', columns=['property_type'])"
      ],
      "execution_count": null,
      "outputs": []
    },
    {
      "cell_type": "code",
      "metadata": {
        "colab": {
          "base_uri": "https://localhost:8080/",
          "height": 191
        },
        "id": "uKftVXavzQR7",
        "outputId": "fe655ea7-9a65-4f02-c1c3-6c185475ee27"
      },
      "source": [
        "df3.head()"
      ],
      "execution_count": null,
      "outputs": [
        {
          "output_type": "execute_result",
          "data": {
            "text/html": [
              "<div>\n",
              "<style scoped>\n",
              "    .dataframe tbody tr th:only-of-type {\n",
              "        vertical-align: middle;\n",
              "    }\n",
              "\n",
              "    .dataframe tbody tr th {\n",
              "        vertical-align: top;\n",
              "    }\n",
              "\n",
              "    .dataframe thead th {\n",
              "        text-align: right;\n",
              "    }\n",
              "</style>\n",
              "<table border=\"1\" class=\"dataframe\">\n",
              "  <thead>\n",
              "    <tr style=\"text-align: right;\">\n",
              "      <th></th>\n",
              "      <th>lat</th>\n",
              "      <th>lon</th>\n",
              "      <th>rooms</th>\n",
              "      <th>bedrooms</th>\n",
              "      <th>bathrooms</th>\n",
              "      <th>surface_total</th>\n",
              "      <th>surface_covered</th>\n",
              "      <th>price</th>\n",
              "      <th>property_type__Casa</th>\n",
              "      <th>property_type__Departamento</th>\n",
              "      <th>property_type__PH</th>\n",
              "    </tr>\n",
              "  </thead>\n",
              "  <tbody>\n",
              "    <tr>\n",
              "      <th>0</th>\n",
              "      <td>-34.605880</td>\n",
              "      <td>-58.384949</td>\n",
              "      <td>7.0</td>\n",
              "      <td>7.0</td>\n",
              "      <td>2.0</td>\n",
              "      <td>140.0</td>\n",
              "      <td>140.0</td>\n",
              "      <td>153000.0</td>\n",
              "      <td>0</td>\n",
              "      <td>1</td>\n",
              "      <td>0</td>\n",
              "    </tr>\n",
              "    <tr>\n",
              "      <th>1</th>\n",
              "      <td>-34.624056</td>\n",
              "      <td>-58.412110</td>\n",
              "      <td>2.0</td>\n",
              "      <td>1.0</td>\n",
              "      <td>2.0</td>\n",
              "      <td>70.0</td>\n",
              "      <td>58.0</td>\n",
              "      <td>159000.0</td>\n",
              "      <td>0</td>\n",
              "      <td>0</td>\n",
              "      <td>1</td>\n",
              "    </tr>\n",
              "    <tr>\n",
              "      <th>2</th>\n",
              "      <td>-34.593569</td>\n",
              "      <td>-58.427474</td>\n",
              "      <td>2.0</td>\n",
              "      <td>1.0</td>\n",
              "      <td>1.0</td>\n",
              "      <td>45.0</td>\n",
              "      <td>45.0</td>\n",
              "      <td>125000.0</td>\n",
              "      <td>0</td>\n",
              "      <td>0</td>\n",
              "      <td>1</td>\n",
              "    </tr>\n",
              "    <tr>\n",
              "      <th>3</th>\n",
              "      <td>-34.581294</td>\n",
              "      <td>-58.436754</td>\n",
              "      <td>2.0</td>\n",
              "      <td>1.0</td>\n",
              "      <td>1.0</td>\n",
              "      <td>85.0</td>\n",
              "      <td>50.0</td>\n",
              "      <td>295000.0</td>\n",
              "      <td>0</td>\n",
              "      <td>0</td>\n",
              "      <td>1</td>\n",
              "    </tr>\n",
              "    <tr>\n",
              "      <th>5</th>\n",
              "      <td>-34.593779</td>\n",
              "      <td>-58.441239</td>\n",
              "      <td>2.0</td>\n",
              "      <td>1.0</td>\n",
              "      <td>1.0</td>\n",
              "      <td>56.0</td>\n",
              "      <td>56.0</td>\n",
              "      <td>150000.0</td>\n",
              "      <td>0</td>\n",
              "      <td>0</td>\n",
              "      <td>1</td>\n",
              "    </tr>\n",
              "  </tbody>\n",
              "</table>\n",
              "</div>"
            ],
            "text/plain": [
              "         lat        lon  ...  property_type__Departamento  property_type__PH\n",
              "0 -34.605880 -58.384949  ...                            1                  0\n",
              "1 -34.624056 -58.412110  ...                            0                  1\n",
              "2 -34.593569 -58.427474  ...                            0                  1\n",
              "3 -34.581294 -58.436754  ...                            0                  1\n",
              "5 -34.593779 -58.441239  ...                            0                  1\n",
              "\n",
              "[5 rows x 11 columns]"
            ]
          },
          "metadata": {
            "tags": []
          },
          "execution_count": 22
        }
      ]
    },
    {
      "cell_type": "code",
      "metadata": {
        "id": "j2gecqdNzQR8"
      },
      "source": [
        "# se añade con el anterior dataframe y las juevas variables dummies\n",
        "df4=pd.concat((df2,df3), axis =1 )"
      ],
      "execution_count": null,
      "outputs": []
    },
    {
      "cell_type": "code",
      "metadata": {
        "colab": {
          "base_uri": "https://localhost:8080/",
          "height": 411
        },
        "id": "HfiIWFezzQR8",
        "outputId": "1e09a86f-31ee-4a05-a1fd-6a760c10bfb0"
      },
      "source": [
        "df4"
      ],
      "execution_count": null,
      "outputs": [
        {
          "output_type": "execute_result",
          "data": {
            "text/html": [
              "<div>\n",
              "<style scoped>\n",
              "    .dataframe tbody tr th:only-of-type {\n",
              "        vertical-align: middle;\n",
              "    }\n",
              "\n",
              "    .dataframe tbody tr th {\n",
              "        vertical-align: top;\n",
              "    }\n",
              "\n",
              "    .dataframe thead th {\n",
              "        text-align: right;\n",
              "    }\n",
              "</style>\n",
              "<table border=\"1\" class=\"dataframe\">\n",
              "  <thead>\n",
              "    <tr style=\"text-align: right;\">\n",
              "      <th></th>\n",
              "      <th>lat</th>\n",
              "      <th>lon</th>\n",
              "      <th>rooms</th>\n",
              "      <th>bedrooms</th>\n",
              "      <th>bathrooms</th>\n",
              "      <th>surface_total</th>\n",
              "      <th>surface_covered</th>\n",
              "      <th>price</th>\n",
              "      <th>property_type</th>\n",
              "      <th>lat</th>\n",
              "      <th>lon</th>\n",
              "      <th>rooms</th>\n",
              "      <th>bedrooms</th>\n",
              "      <th>bathrooms</th>\n",
              "      <th>surface_total</th>\n",
              "      <th>surface_covered</th>\n",
              "      <th>price</th>\n",
              "      <th>property_type__Casa</th>\n",
              "      <th>property_type__Departamento</th>\n",
              "      <th>property_type__PH</th>\n",
              "    </tr>\n",
              "  </thead>\n",
              "  <tbody>\n",
              "    <tr>\n",
              "      <th>0</th>\n",
              "      <td>-34.605880</td>\n",
              "      <td>-58.384949</td>\n",
              "      <td>7.0</td>\n",
              "      <td>7.0</td>\n",
              "      <td>2.0</td>\n",
              "      <td>140.0</td>\n",
              "      <td>140.0</td>\n",
              "      <td>153000.0</td>\n",
              "      <td>Departamento</td>\n",
              "      <td>-34.605880</td>\n",
              "      <td>-58.384949</td>\n",
              "      <td>7.0</td>\n",
              "      <td>7.0</td>\n",
              "      <td>2.0</td>\n",
              "      <td>140.0</td>\n",
              "      <td>140.0</td>\n",
              "      <td>153000.0</td>\n",
              "      <td>0</td>\n",
              "      <td>1</td>\n",
              "      <td>0</td>\n",
              "    </tr>\n",
              "    <tr>\n",
              "      <th>1</th>\n",
              "      <td>-34.624056</td>\n",
              "      <td>-58.412110</td>\n",
              "      <td>2.0</td>\n",
              "      <td>1.0</td>\n",
              "      <td>2.0</td>\n",
              "      <td>70.0</td>\n",
              "      <td>58.0</td>\n",
              "      <td>159000.0</td>\n",
              "      <td>PH</td>\n",
              "      <td>-34.624056</td>\n",
              "      <td>-58.412110</td>\n",
              "      <td>2.0</td>\n",
              "      <td>1.0</td>\n",
              "      <td>2.0</td>\n",
              "      <td>70.0</td>\n",
              "      <td>58.0</td>\n",
              "      <td>159000.0</td>\n",
              "      <td>0</td>\n",
              "      <td>0</td>\n",
              "      <td>1</td>\n",
              "    </tr>\n",
              "    <tr>\n",
              "      <th>2</th>\n",
              "      <td>-34.593569</td>\n",
              "      <td>-58.427474</td>\n",
              "      <td>2.0</td>\n",
              "      <td>1.0</td>\n",
              "      <td>1.0</td>\n",
              "      <td>45.0</td>\n",
              "      <td>45.0</td>\n",
              "      <td>125000.0</td>\n",
              "      <td>PH</td>\n",
              "      <td>-34.593569</td>\n",
              "      <td>-58.427474</td>\n",
              "      <td>2.0</td>\n",
              "      <td>1.0</td>\n",
              "      <td>1.0</td>\n",
              "      <td>45.0</td>\n",
              "      <td>45.0</td>\n",
              "      <td>125000.0</td>\n",
              "      <td>0</td>\n",
              "      <td>0</td>\n",
              "      <td>1</td>\n",
              "    </tr>\n",
              "    <tr>\n",
              "      <th>3</th>\n",
              "      <td>-34.581294</td>\n",
              "      <td>-58.436754</td>\n",
              "      <td>2.0</td>\n",
              "      <td>1.0</td>\n",
              "      <td>1.0</td>\n",
              "      <td>85.0</td>\n",
              "      <td>50.0</td>\n",
              "      <td>295000.0</td>\n",
              "      <td>PH</td>\n",
              "      <td>-34.581294</td>\n",
              "      <td>-58.436754</td>\n",
              "      <td>2.0</td>\n",
              "      <td>1.0</td>\n",
              "      <td>1.0</td>\n",
              "      <td>85.0</td>\n",
              "      <td>50.0</td>\n",
              "      <td>295000.0</td>\n",
              "      <td>0</td>\n",
              "      <td>0</td>\n",
              "      <td>1</td>\n",
              "    </tr>\n",
              "    <tr>\n",
              "      <th>5</th>\n",
              "      <td>-34.593779</td>\n",
              "      <td>-58.441239</td>\n",
              "      <td>2.0</td>\n",
              "      <td>1.0</td>\n",
              "      <td>1.0</td>\n",
              "      <td>56.0</td>\n",
              "      <td>56.0</td>\n",
              "      <td>150000.0</td>\n",
              "      <td>PH</td>\n",
              "      <td>-34.593779</td>\n",
              "      <td>-58.441239</td>\n",
              "      <td>2.0</td>\n",
              "      <td>1.0</td>\n",
              "      <td>1.0</td>\n",
              "      <td>56.0</td>\n",
              "      <td>56.0</td>\n",
              "      <td>150000.0</td>\n",
              "      <td>0</td>\n",
              "      <td>0</td>\n",
              "      <td>1</td>\n",
              "    </tr>\n",
              "    <tr>\n",
              "      <th>...</th>\n",
              "      <td>...</td>\n",
              "      <td>...</td>\n",
              "      <td>...</td>\n",
              "      <td>...</td>\n",
              "      <td>...</td>\n",
              "      <td>...</td>\n",
              "      <td>...</td>\n",
              "      <td>...</td>\n",
              "      <td>...</td>\n",
              "      <td>...</td>\n",
              "      <td>...</td>\n",
              "      <td>...</td>\n",
              "      <td>...</td>\n",
              "      <td>...</td>\n",
              "      <td>...</td>\n",
              "      <td>...</td>\n",
              "      <td>...</td>\n",
              "      <td>...</td>\n",
              "      <td>...</td>\n",
              "      <td>...</td>\n",
              "    </tr>\n",
              "    <tr>\n",
              "      <th>146554</th>\n",
              "      <td>-34.585355</td>\n",
              "      <td>-58.427194</td>\n",
              "      <td>4.0</td>\n",
              "      <td>3.0</td>\n",
              "      <td>3.0</td>\n",
              "      <td>175.0</td>\n",
              "      <td>111.0</td>\n",
              "      <td>570000.0</td>\n",
              "      <td>PH</td>\n",
              "      <td>-34.585355</td>\n",
              "      <td>-58.427194</td>\n",
              "      <td>4.0</td>\n",
              "      <td>3.0</td>\n",
              "      <td>3.0</td>\n",
              "      <td>175.0</td>\n",
              "      <td>111.0</td>\n",
              "      <td>570000.0</td>\n",
              "      <td>0</td>\n",
              "      <td>0</td>\n",
              "      <td>1</td>\n",
              "    </tr>\n",
              "    <tr>\n",
              "      <th>146555</th>\n",
              "      <td>-34.585355</td>\n",
              "      <td>-58.427194</td>\n",
              "      <td>3.0</td>\n",
              "      <td>2.0</td>\n",
              "      <td>2.0</td>\n",
              "      <td>144.0</td>\n",
              "      <td>134.0</td>\n",
              "      <td>480000.0</td>\n",
              "      <td>PH</td>\n",
              "      <td>-34.585355</td>\n",
              "      <td>-58.427194</td>\n",
              "      <td>3.0</td>\n",
              "      <td>2.0</td>\n",
              "      <td>2.0</td>\n",
              "      <td>144.0</td>\n",
              "      <td>134.0</td>\n",
              "      <td>480000.0</td>\n",
              "      <td>0</td>\n",
              "      <td>0</td>\n",
              "      <td>1</td>\n",
              "    </tr>\n",
              "    <tr>\n",
              "      <th>146556</th>\n",
              "      <td>-34.584134</td>\n",
              "      <td>-58.436389</td>\n",
              "      <td>4.0</td>\n",
              "      <td>2.0</td>\n",
              "      <td>2.0</td>\n",
              "      <td>317.0</td>\n",
              "      <td>143.0</td>\n",
              "      <td>530000.0</td>\n",
              "      <td>PH</td>\n",
              "      <td>-34.584134</td>\n",
              "      <td>-58.436389</td>\n",
              "      <td>4.0</td>\n",
              "      <td>2.0</td>\n",
              "      <td>2.0</td>\n",
              "      <td>317.0</td>\n",
              "      <td>143.0</td>\n",
              "      <td>530000.0</td>\n",
              "      <td>0</td>\n",
              "      <td>0</td>\n",
              "      <td>1</td>\n",
              "    </tr>\n",
              "    <tr>\n",
              "      <th>146557</th>\n",
              "      <td>-34.583995</td>\n",
              "      <td>-58.417645</td>\n",
              "      <td>3.0</td>\n",
              "      <td>2.0</td>\n",
              "      <td>2.0</td>\n",
              "      <td>145.0</td>\n",
              "      <td>145.0</td>\n",
              "      <td>420000.0</td>\n",
              "      <td>Departamento</td>\n",
              "      <td>-34.583995</td>\n",
              "      <td>-58.417645</td>\n",
              "      <td>3.0</td>\n",
              "      <td>2.0</td>\n",
              "      <td>2.0</td>\n",
              "      <td>145.0</td>\n",
              "      <td>145.0</td>\n",
              "      <td>420000.0</td>\n",
              "      <td>0</td>\n",
              "      <td>1</td>\n",
              "      <td>0</td>\n",
              "    </tr>\n",
              "    <tr>\n",
              "      <th>146558</th>\n",
              "      <td>1.000000</td>\n",
              "      <td>1.000000</td>\n",
              "      <td>4.0</td>\n",
              "      <td>3.0</td>\n",
              "      <td>5.0</td>\n",
              "      <td>220.0</td>\n",
              "      <td>210.0</td>\n",
              "      <td>1470000.0</td>\n",
              "      <td>Departamento</td>\n",
              "      <td>1.000000</td>\n",
              "      <td>1.000000</td>\n",
              "      <td>4.0</td>\n",
              "      <td>3.0</td>\n",
              "      <td>5.0</td>\n",
              "      <td>220.0</td>\n",
              "      <td>210.0</td>\n",
              "      <td>1470000.0</td>\n",
              "      <td>0</td>\n",
              "      <td>1</td>\n",
              "      <td>0</td>\n",
              "    </tr>\n",
              "  </tbody>\n",
              "</table>\n",
              "<p>91485 rows × 20 columns</p>\n",
              "</div>"
            ],
            "text/plain": [
              "              lat        lon  ...  property_type__Departamento  property_type__PH\n",
              "0      -34.605880 -58.384949  ...                            1                  0\n",
              "1      -34.624056 -58.412110  ...                            0                  1\n",
              "2      -34.593569 -58.427474  ...                            0                  1\n",
              "3      -34.581294 -58.436754  ...                            0                  1\n",
              "5      -34.593779 -58.441239  ...                            0                  1\n",
              "...           ...        ...  ...                          ...                ...\n",
              "146554 -34.585355 -58.427194  ...                            0                  1\n",
              "146555 -34.585355 -58.427194  ...                            0                  1\n",
              "146556 -34.584134 -58.436389  ...                            0                  1\n",
              "146557 -34.583995 -58.417645  ...                            1                  0\n",
              "146558   1.000000   1.000000  ...                            1                  0\n",
              "\n",
              "[91485 rows x 20 columns]"
            ]
          },
          "metadata": {
            "tags": []
          },
          "execution_count": 24
        }
      ]
    },
    {
      "cell_type": "code",
      "metadata": {
        "colab": {
          "base_uri": "https://localhost:8080/"
        },
        "id": "jbxfONv7zQR9",
        "outputId": "b8768a36-4d08-44ff-d134-7a4f958dc618"
      },
      "source": [
        "## OUTLIERS--lat\n",
        "valor_medio = df3.lat.mean()\n",
        "std = df3.lat.std()\n",
        "minimo = valor_medio - 3*std\n",
        "maximo = valor_medio + 3*std\n",
        "mascara_outliers_lat = np.logical_or(df3.lat < minimo, df3.lat > maximo)\n",
        "mascara_outliers_lat.sum()\n",
        "#df2[mascara_outliers_lat]"
      ],
      "execution_count": null,
      "outputs": [
        {
          "output_type": "execute_result",
          "data": {
            "text/plain": [
              "4534"
            ]
          },
          "metadata": {
            "tags": []
          },
          "execution_count": 25
        }
      ]
    },
    {
      "cell_type": "code",
      "metadata": {
        "colab": {
          "base_uri": "https://localhost:8080/"
        },
        "id": "bUPrIPmZzQR9",
        "outputId": "f94b1bbc-0ffb-4a30-ce80-959a6bc2c3e9"
      },
      "source": [
        "## OUTLIERS--lon\n",
        "valor_medio = df3.lon.mean()\n",
        "std = df3.lon.std()\n",
        "minimo = valor_medio - 3*std\n",
        "maximo = valor_medio + 3*std\n",
        "mascara_outliers_lon = np.logical_or(df3.lon < minimo, df3.lon > maximo)\n",
        "mascara_outliers_lon.sum()\n",
        "#df2[mascara_outliers_lon]"
      ],
      "execution_count": null,
      "outputs": [
        {
          "output_type": "execute_result",
          "data": {
            "text/plain": [
              "4548"
            ]
          },
          "metadata": {
            "tags": []
          },
          "execution_count": 26
        }
      ]
    },
    {
      "cell_type": "code",
      "metadata": {
        "colab": {
          "base_uri": "https://localhost:8080/"
        },
        "id": "om4VFaeKzQR9",
        "outputId": "6e8dfa02-1430-4d94-90b4-cc4c10b24487"
      },
      "source": [
        "## OUTLIERS--rooms\n",
        "valor_medio = df3.rooms.mean()\n",
        "std = df3.rooms.std()\n",
        "minimo = valor_medio - 3*std\n",
        "maximo = valor_medio + 3*std\n",
        "mascara_outliers_rooms = np.logical_or(df3.rooms < minimo, df3.rooms > maximo)\n",
        "mascara_outliers_rooms.sum()\n",
        "#df2[mascara_outliers_rooms]"
      ],
      "execution_count": null,
      "outputs": [
        {
          "output_type": "execute_result",
          "data": {
            "text/plain": [
              "1368"
            ]
          },
          "metadata": {
            "tags": []
          },
          "execution_count": 27
        }
      ]
    },
    {
      "cell_type": "code",
      "metadata": {
        "colab": {
          "base_uri": "https://localhost:8080/"
        },
        "id": "AT3dkWwPzQR9",
        "outputId": "dd486e84-719b-4fef-897e-2a9cfdbf7265"
      },
      "source": [
        "## OUTLIERS--bedrooms\n",
        "valor_medio = df3.bedrooms.mean()\n",
        "std = df3.bedrooms.std()\n",
        "minimo = valor_medio - 3*std\n",
        "maximo = valor_medio + 3*std\n",
        "mascara_outliers_bedrooms = np.logical_or(df3.bedrooms < minimo, df3.bedrooms > maximo)\n",
        "mascara_outliers_bedrooms.sum()\n",
        "#df2[mascara_outliers_bedrooms]"
      ],
      "execution_count": null,
      "outputs": [
        {
          "output_type": "execute_result",
          "data": {
            "text/plain": [
              "588"
            ]
          },
          "metadata": {
            "tags": []
          },
          "execution_count": 28
        }
      ]
    },
    {
      "cell_type": "code",
      "metadata": {
        "colab": {
          "base_uri": "https://localhost:8080/"
        },
        "id": "7dLhK11gzQR-",
        "outputId": "7b2c7f17-441a-41ac-bda8-5510c60c2c80"
      },
      "source": [
        "## OUTLIERS--bathrooms\n",
        "valor_medio = df3.bathrooms.mean()\n",
        "std = df3.bathrooms.std()\n",
        "minimo = valor_medio - 3*std\n",
        "maximo = valor_medio + 3*std\n",
        "mascara_outliers_bathrooms = np.logical_or(df3.bathrooms < minimo, df3.bathrooms > maximo)\n",
        "mascara_outliers_bathrooms.sum()\n",
        "#df2[mascara_outliers_bathrooms]"
      ],
      "execution_count": null,
      "outputs": [
        {
          "output_type": "execute_result",
          "data": {
            "text/plain": [
              "930"
            ]
          },
          "metadata": {
            "tags": []
          },
          "execution_count": 29
        }
      ]
    },
    {
      "cell_type": "code",
      "metadata": {
        "colab": {
          "base_uri": "https://localhost:8080/"
        },
        "id": "oJ528hdjzQR-",
        "outputId": "ce039b7f-d0c1-4a04-c8f3-732cdf1a87c0"
      },
      "source": [
        "## OUTLIERS--surface_total\n",
        "valor_medio = df3.surface_total.mean()\n",
        "std = df3.surface_total.std()\n",
        "minimo = valor_medio - 3*std\n",
        "maximo = valor_medio + 3*std\n",
        "mascara_outliers_surface_total = np.logical_or(df3.surface_total < minimo, df3.surface_total > maximo)\n",
        "mascara_outliers_surface_total.sum()\n",
        "#df2[mascara_outliers_surface_total]"
      ],
      "execution_count": null,
      "outputs": [
        {
          "output_type": "execute_result",
          "data": {
            "text/plain": [
              "118"
            ]
          },
          "metadata": {
            "tags": []
          },
          "execution_count": 30
        }
      ]
    },
    {
      "cell_type": "code",
      "metadata": {
        "colab": {
          "base_uri": "https://localhost:8080/"
        },
        "id": "U_ngz7fpzQR_",
        "outputId": "d230d490-bd8a-41b9-e518-0150501dfbd5"
      },
      "source": [
        "## OUTLIERS--surface_covered\n",
        "valor_medio = df3.surface_covered.mean()\n",
        "std = df3.surface_covered.std()\n",
        "minimo = valor_medio - 3*std\n",
        "maximo = valor_medio + 3*std\n",
        "mascara_outliers_surface_covered = np.logical_or(df3.surface_covered < minimo, df3.surface_covered > maximo)\n",
        "mascara_outliers_surface_covered.sum()\n",
        "#df2[mascara_outliers_surface_covered]"
      ],
      "execution_count": null,
      "outputs": [
        {
          "output_type": "execute_result",
          "data": {
            "text/plain": [
              "108"
            ]
          },
          "metadata": {
            "tags": []
          },
          "execution_count": 31
        }
      ]
    },
    {
      "cell_type": "markdown",
      "metadata": {
        "id": "bXSMm-aOC4O-"
      },
      "source": [
        "\n",
        "**ENTRENAMIENTO DEL MODELO DEL PROYECTO 1-REALIZANDO PRE-PROCESAMIENTO DE DATOS( MISSING DATA/ OUTLIERS)** "
      ]
    },
    {
      "cell_type": "code",
      "metadata": {
        "id": "D6X5CX49zQSA"
      },
      "source": [
        "X= df3[[\"rooms\",\"bedrooms\",\"surface_total\",\"bathrooms\", \"surface_covered\",\"property_type__Casa\",\"property_type__Departamento\",\"property_type__PH\"]]\n",
        "y=df3.price"
      ],
      "execution_count": null,
      "outputs": []
    },
    {
      "cell_type": "markdown",
      "metadata": {
        "id": "L-_aANOVzQSA"
      },
      "source": [
        "\n",
        "**ESCALADO DE FEATURE-DESPUES DE ENTRENAMIENTO DE MODELO** "
      ]
    },
    {
      "cell_type": "code",
      "metadata": {
        "id": "78MSxhDbzQSB"
      },
      "source": [
        "from sklearn.preprocessing import StandardScaler\n",
        "\n",
        "scl = StandardScaler()\n",
        "X = scl.fit_transform(X)"
      ],
      "execution_count": null,
      "outputs": []
    },
    {
      "cell_type": "code",
      "metadata": {
        "id": "Qd49JqUPzQSB"
      },
      "source": [
        "#from sklearn.preprocessing import MinMaxScaler, StandardScaler, LabelEncoder\n",
        "\n",
        "#scaler = MinMaxScaler()\n",
        "#scaled_data = scaler.fit_transform(X)\n",
        "#scaled_df = pd.DataFrame(data = scaled_data, columns = X.columns)\n",
        "#scaled_df.head()"
      ],
      "execution_count": null,
      "outputs": []
    },
    {
      "cell_type": "code",
      "metadata": {
        "colab": {
          "base_uri": "https://localhost:8080/"
        },
        "id": "ReWDGyKTzQSB",
        "outputId": "4414aee8-b927-4a67-991d-b6b8020fbc0f"
      },
      "source": [
        "from sklearn.model_selection import train_test_split\n",
        "\n",
        "#X_train, X_test, y_train, y_test = train_test_split(X,y,  test_size=0.30, stratify=y, random_state=42)\n",
        "X_train, X_test, y_train, y_test = train_test_split(X,y,test_size=0.33, random_state=42) \n",
        "\n",
        "print(X_train.shape, X_test.shape, y_train.shape, y_test.shape)"
      ],
      "execution_count": null,
      "outputs": [
        {
          "output_type": "stream",
          "text": [
            "(61294, 8) (30191, 8) (61294,) (30191,)\n"
          ],
          "name": "stdout"
        }
      ]
    },
    {
      "cell_type": "code",
      "metadata": {
        "colab": {
          "base_uri": "https://localhost:8080/",
          "height": 1000
        },
        "id": "G6MQxnJrzQSC",
        "outputId": "fd702622-85c0-42dd-d6ec-8cc93d498842"
      },
      "source": [
        "for i in range(X_train.shape[1]):\n",
        "    plt.figure(figsize=(25,10))\n",
        "    sns.distplot(X_train[:,i])\n",
        "    sns.distplot(X_test[:,i])\n",
        "    plt.show()"
      ],
      "execution_count": null,
      "outputs": [
        {
          "output_type": "display_data",
          "data": {
            "image/png": "[encoded data removed]",
            "text/plain": [
              "<Figure size 1800x720 with 1 Axes>"
            ]
          },
          "metadata": {
            "tags": [],
            "needs_background": "light"
          }
        },
        {
          "output_type": "display_data",
          "data": {
            "image/png": "[encoded data removed]",
            "text/plain": [
              "<Figure size 1800x720 with 1 Axes>"
            ]
          },
          "metadata": {
            "tags": [],
            "needs_background": "light"
          }
        },
        {
          "output_type": "display_data",
          "data": {
            "image/png": "[encoded data removed]",
            "text/plain": [
              "<Figure size 1800x720 with 1 Axes>"
            ]
          },
          "metadata": {
            "tags": [],
            "needs_background": "light"
          }
        },
        {
          "output_type": "display_data",
          "data": {
            "image/png": "[encoded data removed]",
            "text/plain": [
              "<Figure size 1800x720 with 1 Axes>"
            ]
          },
          "metadata": {
            "tags": [],
            "needs_background": "light"
          }
        },
        {
          "output_type": "display_data",
          "data": {
            "image/png": "[encoded data removed]",
            "text/plain": [
              "<Figure size 1800x720 with 1 Axes>"
            ]
          },
          "metadata": {
            "tags": [],
            "needs_background": "light"
          }
        },
        {
          "output_type": "display_data",
          "data": {
            "image/png": "[encoded data removed]",
            "text/plain": [
              "<Figure size 1800x720 with 1 Axes>"
            ]
          },
          "metadata": {
            "tags": [],
            "needs_background": "light"
          }
        },
        {
          "output_type": "display_data",
          "data": {
            "image/png": "[encoded data removed]",
            "text/plain": [
              "<Figure size 1800x720 with 1 Axes>"
            ]
          },
          "metadata": {
            "tags": [],
            "needs_background": "light"
          }
        },
        {
          "output_type": "display_data",
          "data": {
            "image/png": "[encoded data removed]",
            "text/plain": [
              "<Figure size 1800x720 with 1 Axes>"
            ]
          },
          "metadata": {
            "tags": [],
            "needs_background": "light"
          }
        }
      ]
    },
    {
      "cell_type": "code",
      "metadata": {
        "id": "_FRDTemUzQSD"
      },
      "source": [
        "from sklearn.linear_model import LinearRegression\n",
        "from sklearn.tree import DecisionTreeRegressor\n",
        "from sklearn.neighbors import KNeighborsRegressor\n",
        "from sklearn import metrics\n",
        "\n",
        "linear_model = LinearRegression()"
      ],
      "execution_count": null,
      "outputs": []
    },
    {
      "cell_type": "code",
      "metadata": {
        "colab": {
          "base_uri": "https://localhost:8080/"
        },
        "id": "YniS7d6RzQSD",
        "outputId": "a2a31d6b-a25a-42e9-959d-332d48d2b04f"
      },
      "source": [
        "#Ajustando el modelo,entrenado los modelos\n",
        "linear_model.fit(X_train, y_train)"
      ],
      "execution_count": null,
      "outputs": [
        {
          "output_type": "execute_result",
          "data": {
            "text/plain": [
              "LinearRegression()"
            ]
          },
          "metadata": {
            "tags": []
          },
          "execution_count": 34
        }
      ]
    },
    {
      "cell_type": "code",
      "metadata": {
        "id": "aSAeNKlwzQSD"
      },
      "source": [
        "# Creamos un objeto arbol\n",
        "tree =DecisionTreeRegressor(max_depth=8, random_state=42)\n",
        "tree.fit(X_train, y_train)\n",
        "y_pred= tree.predict(X_test)"
      ],
      "execution_count": null,
      "outputs": []
    },
    {
      "cell_type": "code",
      "metadata": {
        "colab": {
          "base_uri": "https://localhost:8080/"
        },
        "id": "-epI8yYuzQSD",
        "outputId": "211da65a-52be-4d9a-e13e-4e0bf2210b25"
      },
      "source": [
        "# Error de test del modelo DecisionTreeRegressor inicial\n",
        "\n",
        "from sklearn.metrics import r2_score\n",
        "\n",
        "R2 = tree.score(X,y)\n",
        "RMSE = np.sqrt(metrics.mean_squared_error(y_test, y_pred))\n",
        "MAE = metrics.mean_absolute_error(y_test, y_pred)\n",
        "#R2 = metrics.mean_squared_error(y_test, y_pred)\n",
        "print('R2:',R2)\n",
        "print('RMSE:',RMSE)\n",
        "print('MAE:',MAE)"
      ],
      "execution_count": null,
      "outputs": [
        {
          "output_type": "stream",
          "text": [
            "R2: 0.8106374629659252\n",
            "RMSE: 149711.8862576371\n",
            "MAE: 67205.62106199669\n"
          ],
          "name": "stdout"
        }
      ]
    },
    {
      "cell_type": "code",
      "metadata": {
        "colab": {
          "base_uri": "https://localhost:8080/"
        },
        "id": "eWEu8pBizQSE",
        "outputId": "6c7cc7b6-f0f7-46eb-b4ee-5061478a1c6d"
      },
      "source": [
        "print('DATOS DEL MODELO ÁRBOLES DE DECISIÓN REGRESION')\n",
        "print()\n",
        "print('Precisión del modelo:')\n",
        "print(tree.score(X_train, y_train))"
      ],
      "execution_count": null,
      "outputs": [
        {
          "output_type": "stream",
          "text": [
            "DATOS DEL MODELO ÁRBOLES DE DECISIÓN REGRESION\n",
            "\n",
            "Precisión del modelo:\n",
            "0.8341527565003842\n"
          ],
          "name": "stdout"
        }
      ]
    },
    {
      "cell_type": "code",
      "metadata": {
        "id": "oCvM_JNJzQSE"
      },
      "source": [
        "# Creamos un objeto arbol\n",
        "#Modelos optimizando  la profundidad del árbol-----------------------------------------\n",
        "tree=DecisionTreeRegressor(max_depth=18, random_state=42)\n",
        "tree.fit(X_train, y_train)\n",
        "y_pred= tree.predict(X_test)"
      ],
      "execution_count": null,
      "outputs": []
    },
    {
      "cell_type": "code",
      "metadata": {
        "colab": {
          "base_uri": "https://localhost:8080/"
        },
        "id": "tuQ0fxYzzQSE",
        "outputId": "ae138b32-d481-4fb7-8a20-e90ec57a6981"
      },
      "source": [
        "# Error de test del modelo DecisionTreeRegressor final\n",
        "from sklearn.metrics import r2_score\n",
        "\n",
        "R2 = tree.score(X,y)\n",
        "RMSE = np.sqrt(metrics.mean_squared_error(y_test, y_pred))\n",
        "MAE = metrics.mean_absolute_error(y_test, y_pred)\n",
        "#R2 = metrics.mean_squared_error(y_test, y_pred)\n",
        "print('R2:',R2)\n",
        "print('RMSE:',RMSE)\n",
        "print('MAE:',MAE)"
      ],
      "execution_count": null,
      "outputs": [
        {
          "output_type": "stream",
          "text": [
            "R2: 0.7932478117751796\n",
            "RMSE: 235217.22063175964\n",
            "MAE: 53723.23809222558\n"
          ],
          "name": "stdout"
        }
      ]
    },
    {
      "cell_type": "code",
      "metadata": {
        "colab": {
          "base_uri": "https://localhost:8080/"
        },
        "id": "nR4YUt-IzQSE",
        "outputId": "f1bd171b-6c7f-4f58-bb26-27b1999705ed"
      },
      "source": [
        "print('DATOS DEL MODELO ÁRBOLES DE DECISIÓN REGRESION')\n",
        "print()\n",
        "print('Precisión del modelo:')\n",
        "print(tree.score(X_train, y_train))"
      ],
      "execution_count": null,
      "outputs": [
        {
          "output_type": "stream",
          "text": [
            "DATOS DEL MODELO ÁRBOLES DE DECISIÓN REGRESION\n",
            "\n",
            "Precisión del modelo:\n",
            "0.9565624871505801\n"
          ],
          "name": "stdout"
        }
      ]
    },
    {
      "cell_type": "code",
      "metadata": {
        "id": "9YhqWlU_zQSF"
      },
      "source": [
        "# Definimos las listas vacias para los valores de accuracy deseados\n",
        "lista_train = []\n",
        "lista_test = []\n",
        "#X_train = []\n",
        "#y_test = []\n",
        "\n",
        "# Definimos la lista de valores de max_depth que vamos a explorar\n",
        "max_depths = [2,4,6,8,10,12,14,16,18,20,22,24]\n",
        "\n",
        "# Generamos en loop sobre los distintos valores de profundidad \n",
        "for max_depth in max_depths:\n",
        "    \n",
        "    # Vamos a repetir el siguiente bloque de código\n",
        "    \n",
        "    # Definir el modelo con el valor de profundidad\n",
        "    tree =DecisionTreeRegressor(max_depth = max_depth, random_state=42)\n",
        "\n",
        "    # Entrenar el modelo\n",
        "    tree.fit(X_train,y_train)\n",
        "    \n",
        "    # Predecir y evaluar sobre el set de entrenamiento\n",
        "    y_train_pred = tree.predict(X_train)\n",
        "    RMSE_train = np.sqrt(metrics.mean_squared_error(y_train, y_train_pred))\n",
        "    #MAE_train = metrics.mean_absolute_error(y_test, y_pred)\n",
        "    #R2_train = tree.score(y_train, y_train_pred)\n",
        "    #train_acc = accuracy_score(y_train, y_train_pred)\n",
        "    \n",
        "    # Predecir y evaluar sobre el set de evaluación\n",
        "    y_test_pred = tree.predict(X_test)\n",
        "    RMSE_test = np.sqrt(metrics.mean_squared_error(y_test, y_test_pred))\n",
        "    #MAE_test = metrics.mean_absolute_error(y_test, y_pred)\n",
        "    #R2_test = tree.score(y_test, y_test_pred)\n",
        "    #test_acc = accuracy_score(y_test, y_test_pred)\n",
        "    \n",
        "    # Agregar la información a las listas\n",
        "    lista_train.append(RMSE_train)\n",
        "    lista_test.append(RMSE_test)"
      ],
      "execution_count": null,
      "outputs": []
    },
    {
      "cell_type": "code",
      "metadata": {
        "colab": {
          "base_uri": "https://localhost:8080/",
          "height": 296
        },
        "id": "uKxGzgkRzQSF",
        "outputId": "2a344155-4652-44ea-dade-78f4ab055d6a"
      },
      "source": [
        "plt.plot(max_depths,lista_train,'o-',label='train' )\n",
        "plt.plot(max_depths,lista_test,'o-',label='test')\n",
        "plt.legend()\n",
        "plt.xlabel('Profundidad del árbol')\n",
        "plt.ylabel('RMSE')"
      ],
      "execution_count": null,
      "outputs": [
        {
          "output_type": "execute_result",
          "data": {
            "text/plain": [
              "Text(0, 0.5, 'RMSE')"
            ]
          },
          "metadata": {
            "tags": []
          },
          "execution_count": 42
        },
        {
          "output_type": "display_data",
          "data": {
            "image/png": "[encoded data removed]",
            "text/plain": [
              "<Figure size 432x288 with 1 Axes>"
            ]
          },
          "metadata": {
            "tags": [],
            "needs_background": "light"
          }
        }
      ]
    },
    {
      "cell_type": "code",
      "metadata": {
        "colab": {
          "base_uri": "https://localhost:8080/"
        },
        "id": "CTm7bA7LzQSF",
        "outputId": "1ed36d06-37a6-4a60-b8d4-71ff1d40a3b4"
      },
      "source": [
        "print(linear_model.coef_, linear_model.intercept_)"
      ],
      "execution_count": null,
      "outputs": [
        {
          "output_type": "stream",
          "text": [
            "[ 1.06443069e+05 -5.08600221e+04  5.03518290e+02  1.59547543e+05\n",
            "  9.79126860e+03 -6.35219135e+17 -1.28907808e+18 -1.16058620e+18] 261197.2676006216\n"
          ],
          "name": "stdout"
        }
      ]
    },
    {
      "cell_type": "code",
      "metadata": {
        "id": "R4avpRbQzQSG"
      },
      "source": [
        "from sklearn.neighbors import KNeighborsRegressor\n",
        "\n",
        "n_neighbors=10 # Cuando  el numero de vecinos es menor en el modelo es mas optimo\n",
        "#clf_knn = KNeighborsClassifier(n_neighbors=n_neighbors)\n",
        "knn_regressor = KNeighborsRegressor(n_neighbors=n_neighbors)"
      ],
      "execution_count": null,
      "outputs": []
    },
    {
      "cell_type": "code",
      "metadata": {
        "id": "xZeoNtbszQSG"
      },
      "source": [
        "knn_regressor.fit(X_train, y_train)\n",
        "y_pred= knn_regressor.predict(X_test)"
      ],
      "execution_count": null,
      "outputs": []
    },
    {
      "cell_type": "code",
      "metadata": {
        "colab": {
          "base_uri": "https://localhost:8080/"
        },
        "id": "wz1Zxd9nzQSG",
        "outputId": "78a55fff-3eab-43f2-e97a-d2ad7138e5b8"
      },
      "source": [
        "# Error de test del modelo KNeighborsRegressor inicial\n",
        "\n",
        "from sklearn.metrics import r2_score\n",
        "\n",
        "R2 = knn_regressor.score(X,y)\n",
        "RMSE = np.sqrt(metrics.mean_squared_error(y_test, y_pred))\n",
        "MAE = metrics.mean_absolute_error(y_test, y_pred)\n",
        "#R2 = metrics.mean_squared_error(y_test, y_pred)\n",
        "print('R2:',R2)\n",
        "print('RMSE:',RMSE)\n",
        "print('MAE:',MAE)"
      ],
      "execution_count": null,
      "outputs": [
        {
          "output_type": "stream",
          "text": [
            "R2: 0.7313031505620702\n",
            "RMSE: 146721.7671388741\n",
            "MAE: 59375.4715279388\n"
          ],
          "name": "stdout"
        }
      ]
    },
    {
      "cell_type": "code",
      "metadata": {
        "colab": {
          "base_uri": "https://localhost:8080/"
        },
        "id": "j0EDb_Z6zQSG",
        "outputId": "2aaa77c3-0d91-4867-aee9-71f8a864d933"
      },
      "source": [
        "print('DATOS DEL MODELO VECINO MAS CERCANO REGRESION')\n",
        "print()\n",
        "print('Precisión del modelo:')\n",
        "print(knn_regressor.score(X_train, y_train))"
      ],
      "execution_count": null,
      "outputs": [
        {
          "output_type": "stream",
          "text": [
            "DATOS DEL MODELO VECINO MAS CERCANO REGRESION\n",
            "\n",
            "Precisión del modelo:\n",
            "0.7188277362180402\n"
          ],
          "name": "stdout"
        }
      ]
    },
    {
      "cell_type": "code",
      "metadata": {
        "id": "Fsu4KDH2zQSG"
      },
      "source": [
        "# Modelos optimizando el número de vecinos---------------------------------------\n",
        "\n",
        "from sklearn.neighbors import KNeighborsRegressor\n",
        "\n",
        "n_neighbors=2 # Cuando  el numero de vecinos es menor en el modelo es mas optimo\n",
        "#clf_knn = KNeighborsClassifier(n_neighbors=n_neighbors)\n",
        "knn_regressor = KNeighborsRegressor(n_neighbors=n_neighbors)\n",
        "knn_regressor.fit(X_train, y_train)\n",
        "y_pred= knn_regressor.predict(X_test)"
      ],
      "execution_count": null,
      "outputs": []
    },
    {
      "cell_type": "code",
      "metadata": {
        "colab": {
          "base_uri": "https://localhost:8080/"
        },
        "id": "qAwqVAZRzQSH",
        "outputId": "5f315475-97de-45c3-b761-8290d683bf09"
      },
      "source": [
        "# Error de test del modelo KNeighborsRegressor final\n",
        "from sklearn.metrics import r2_score\n",
        "\n",
        "R2 = knn_regressor.score(X,y)\n",
        "RMSE = np.sqrt(metrics.mean_squared_error(y_test, y_pred))\n",
        "MAE = metrics.mean_absolute_error(y_test, y_pred)\n",
        "#R2 = metrics.mean_squared_error(y_test, y_pred)\n",
        "print('R2:',R2)\n",
        "print('RMSE:',RMSE)\n",
        "print('MAE:',MAE)"
      ],
      "execution_count": null,
      "outputs": [
        {
          "output_type": "stream",
          "text": [
            "R2: 0.8536641724822087\n",
            "RMSE: 141320.87969260282\n",
            "MAE: 56323.836640058296\n"
          ],
          "name": "stdout"
        }
      ]
    },
    {
      "cell_type": "code",
      "metadata": {
        "colab": {
          "base_uri": "https://localhost:8080/"
        },
        "id": "OE7ZDKbZzQSH",
        "outputId": "a5308894-3651-4e9b-dcab-0332298ce4cd"
      },
      "source": [
        "print('DATOS DEL MODELO VECINO MAS CERCANO REGRESION')\n",
        "print()\n",
        "print('Precisión del modelo:')\n",
        "print(knn_regressor.score(X_train, y_train))"
      ],
      "execution_count": null,
      "outputs": [
        {
          "output_type": "stream",
          "text": [
            "DATOS DEL MODELO VECINO MAS CERCANO REGRESION\n",
            "\n",
            "Precisión del modelo:\n",
            "0.883660876200441\n"
          ],
          "name": "stdout"
        }
      ]
    },
    {
      "cell_type": "code",
      "metadata": {
        "id": "4Zk6W3flzQSH"
      },
      "source": [
        "# Definimos las listas vacias para los valores de accuracy deseados\n",
        "lista_train = []\n",
        "lista_test = []\n",
        "\n",
        "# Definimos la lista de valores de k que vamos a explorar\n",
        "k_vecinos = [1,2,3,4,5,6,7,8,9,10,15,20,25]\n",
        "\n",
        "# Generamos en loop sobre los distintos valores de k \n",
        "for k in k_vecinos:\n",
        "    \n",
        "    # Vamos a repetir el siguiente bloque de código\n",
        "    \n",
        "    # Definir el modelo con el valor de vecinos deseado\n",
        "    #clf = KNeighborsClassifier(n_neighbors=k)\n",
        "    knn_regressor = KNeighborsRegressor(n_neighbors=k)\n",
        "    \n",
        "    # Entrenar el modelo\n",
        "    knn_regressor.fit(X_train, y_train)\n",
        "    #clf.fit(X_train,y_train)\n",
        "    \n",
        "    # Predecir y evaluar sobre el set de entrenamiento\n",
        "    y_train_pred =  knn_regressor.predict(X_train)\n",
        "    RMSE_train = np.sqrt(metrics.mean_squared_error(y_train, y_train_pred))\n",
        "    \n",
        "    \n",
        "    # Predecir y evaluar sobre el set de evaluación\n",
        "    y_test_pred = knn_regressor.predict(X_test)\n",
        "    RMSE_test = np.sqrt(metrics.mean_squared_error(y_test, y_test_pred))\n",
        "    \n",
        "    # Agregar la información a las listas\n",
        "    lista_train.append(RMSE_train)\n",
        "    lista_test.append(RMSE_test)"
      ],
      "execution_count": null,
      "outputs": []
    },
    {
      "cell_type": "code",
      "metadata": {
        "colab": {
          "base_uri": "https://localhost:8080/",
          "height": 296
        },
        "id": "0FieM-KSzQSH",
        "outputId": "1b579e60-960a-4e16-9190-00c229423fed"
      },
      "source": [
        "plt.plot(k_vecinos,lista_train,'o-',label='train' )\n",
        "plt.plot(k_vecinos,lista_test,'o-',label='test')\n",
        "plt.legend()\n",
        "plt.xlabel('Número de Vecinos')\n",
        "plt.ylabel('RMSE')"
      ],
      "execution_count": null,
      "outputs": [
        {
          "output_type": "execute_result",
          "data": {
            "text/plain": [
              "Text(0, 0.5, 'RMSE')"
            ]
          },
          "metadata": {
            "tags": []
          },
          "execution_count": 52
        },
        {
          "output_type": "display_data",
          "data": {
            "image/png": "[encoded data removed]",
            "text/plain": [
              "<Figure size 432x288 with 1 Axes>"
            ]
          },
          "metadata": {
            "tags": [],
            "needs_background": "light"
          }
        }
      ]
    },
    {
      "cell_type": "markdown",
      "metadata": {
        "id": "OVEYK7hwzQSH"
      },
      "source": [
        "Teniendo presente el pre-procesamiento que se realizo al entrenamiento de modelo del proyeto 1,  se puede evidenciar que la precision del modelo aumento favorablemente, ya que inicialmente el mejor modelo fue el el arbol de decision con una precicison del 0,95 frente 0,88 despues de realizar la trasnformacion de los datos, que es el valor que encontramos anteriormente, aunque la diferencia con respecto al knn-vecino mas cercano, presenta una gran diferencia de  0,88 frente a 0,64 con los anteriores datos del proyecto 1, sigue teniendo mejor ejecucion el arbol decision, frente al dataset que estamos manejando, de igual formas las metricas relacionados  presentan una  gran diferencia frente a la ultima vez e incorporando unas nuevas varaibles, que contribuyen en gran parte  en la toma de decision desde la vista del comprador como: \"property_type_Casa, property_type_departamento, property_type_PH, surface_covered\", que evidenciaron un fuerte impacto en el comportamiento de nuestros datos demostrados en las diferentes graficas, mejorando asi su precision y emejorando su analisis.\n",
        "Esta mejora se debio al  haber realizado el metodo de escalado de datos, con la finalidad de  que el sistema tenga un rapido aprendizaje y un manejo mas agil con valores mas pequeños; no contribuyo en ningun cambio para la precision del modelo."
      ]
    },
    {
      "cell_type": "markdown",
      "metadata": {
        "id": "uKVQx92zzQSI"
      },
      "source": [
        "---\n",
        "\n",
        "<br />\n",
        "<br />\n",
        "\n",
        "# PARTE B Modelos avanzados\n",
        "<br />\n",
        "<br />\n",
        "\n",
        "---"
      ]
    },
    {
      "cell_type": "code",
      "metadata": {
        "id": "W-5sYa-QzQSI"
      },
      "source": [
        "import pandas as pd\n",
        "import numpy as np\n",
        "import matplotlib.pyplot as plt\n",
        "import seaborn as sns\n",
        "\n",
        "sns.set()"
      ],
      "execution_count": null,
      "outputs": []
    },
    {
      "cell_type": "code",
      "metadata": {
        "id": "4-KV3VuwzQSI"
      },
      "source": [
        "# Para seleccionar cuales serian nuestars variables mas predominantes con el precio se escogio las siguientes, aunque no se encuentran todas, las demas no se\n",
        "#tuvieron en cuenta, ya que no presentaban un impacto importante en el comportamiento de los datos, y a su vez en la precision de los modelos.\n",
        "\n",
        "X= df3.drop([\"rooms\",\"bedrooms\",\"surface_total\",\"bathrooms\",\"property_type__Casa\",\"property_type__Departamento\",\"property_type__PH\"],axis=1)\n",
        "y=df3.price"
      ],
      "execution_count": null,
      "outputs": []
    },
    {
      "cell_type": "code",
      "metadata": {
        "id": "HwhiwskdzQSI"
      },
      "source": [
        "from sklearn.model_selection import train_test_split\n",
        "#X_train, X_test, y_train, y_test = train_test_split(X,y,  test_size=0.30, stratify=y, random_state=1)\n",
        "X_train, X_test, y_train, y_test = train_test_split(X, y, test_size=0.10, random_state=1)"
      ],
      "execution_count": null,
      "outputs": []
    },
    {
      "cell_type": "code",
      "metadata": {
        "id": "3kXOd27_zQSI"
      },
      "source": [
        "from sklearn.preprocessing import StandardScaler\n",
        "\n",
        "scl = StandardScaler()\n",
        "X = scl.fit_transform(X)"
      ],
      "execution_count": null,
      "outputs": []
    },
    {
      "cell_type": "code",
      "metadata": {
        "colab": {
          "base_uri": "https://localhost:8080/"
        },
        "id": "O1bCxZN0orGh",
        "outputId": "4a3c842a-449b-467d-be75-72d6b98156a7"
      },
      "source": [
        "y_train.min,y_train.max"
      ],
      "execution_count": null,
      "outputs": [
        {
          "output_type": "execute_result",
          "data": {
            "text/plain": [
              "(<bound method Series.min of 28314     289000.0\n",
              " 116731    150000.0\n",
              " 6742      240000.0\n",
              " 82591     234999.0\n",
              " 93656     129500.0\n",
              "             ...   \n",
              " 9809      320000.0\n",
              " 84620     110000.0\n",
              " 119682    274000.0\n",
              " 1316      159600.0\n",
              " 24708     138000.0\n",
              " Name: price, Length: 61294, dtype: float64>,\n",
              " <bound method Series.max of 28314     289000.0\n",
              " 116731    150000.0\n",
              " 6742      240000.0\n",
              " 82591     234999.0\n",
              " 93656     129500.0\n",
              "             ...   \n",
              " 9809      320000.0\n",
              " 84620     110000.0\n",
              " 119682    274000.0\n",
              " 1316      159600.0\n",
              " 24708     138000.0\n",
              " Name: price, Length: 61294, dtype: float64>)"
            ]
          },
          "metadata": {
            "tags": []
          },
          "execution_count": 36
        }
      ]
    },
    {
      "cell_type": "code",
      "metadata": {
        "colab": {
          "base_uri": "https://localhost:8080/"
        },
        "id": "mzsUOd2notBV",
        "outputId": "3c858333-c545-45ed-93f9-7fc8789e584f"
      },
      "source": [
        "y_test.min,y_test.max"
      ],
      "execution_count": null,
      "outputs": [
        {
          "output_type": "execute_result",
          "data": {
            "text/plain": [
              "(<bound method Series.min of 128545     95000.0\n",
              " 102582    163000.0\n",
              " 122646    545000.0\n",
              " 80009      95000.0\n",
              " 140192    472900.0\n",
              "             ...   \n",
              " 95885      85000.0\n",
              " 116158    108000.0\n",
              " 49958     130000.0\n",
              " 92978     300000.0\n",
              " 95745     103500.0\n",
              " Name: price, Length: 30191, dtype: float64>,\n",
              " <bound method Series.max of 128545     95000.0\n",
              " 102582    163000.0\n",
              " 122646    545000.0\n",
              " 80009      95000.0\n",
              " 140192    472900.0\n",
              "             ...   \n",
              " 95885      85000.0\n",
              " 116158    108000.0\n",
              " 49958     130000.0\n",
              " 92978     300000.0\n",
              " 95745     103500.0\n",
              " Name: price, Length: 30191, dtype: float64>)"
            ]
          },
          "metadata": {
            "tags": []
          },
          "execution_count": 38
        }
      ]
    },
    {
      "cell_type": "markdown",
      "metadata": {
        "id": "nKr3F19EzQSJ"
      },
      "source": [
        "\n",
        "**1-Modelo=RandomforestRegressor** "
      ]
    },
    {
      "cell_type": "code",
      "metadata": {
        "id": "anXwKC6qzQSJ",
        "colab": {
          "base_uri": "https://localhost:8080/"
        },
        "outputId": "39af1a67-63d4-47ab-d106-9bb5e2b23948"
      },
      "source": [
        "from sklearn.ensemble import RandomForestRegressor\n",
        "from sklearn.model_selection import GridSearchCV\n",
        "\n",
        "forest = RandomForestRegressor(random_state=42)\n",
        "params_forest = { \"n_estimators\":[200,250,300,350,400,450,500,550],\"criterion\":[\"mse\"],\"max_depth\":[None],\"max_features\":[\"sqrt\"],\"bootstrap\":[False]}\n",
        "forest.fit(X_train,y_train)\n"
      ],
      "execution_count": null,
      "outputs": [
        {
          "output_type": "execute_result",
          "data": {
            "text/plain": [
              "RandomForestRegressor(bootstrap=True, ccp_alpha=0.0, criterion='mse',\n",
              "                      max_depth=None, max_features='auto', max_leaf_nodes=None,\n",
              "                      max_samples=None, min_impurity_decrease=0.0,\n",
              "                      min_impurity_split=None, min_samples_leaf=1,\n",
              "                      min_samples_split=2, min_weight_fraction_leaf=0.0,\n",
              "                      n_estimators=100, n_jobs=None, oob_score=False,\n",
              "                      random_state=42, verbose=0, warm_start=False)"
            ]
          },
          "metadata": {
            "tags": []
          },
          "execution_count": 39
        }
      ]
    },
    {
      "cell_type": "code",
      "metadata": {
        "colab": {
          "base_uri": "https://localhost:8080/",
          "height": 295
        },
        "id": "Iu3x1mxklMnt",
        "outputId": "f40c515a-4df6-4614-fc32-d58a20a82a18"
      },
      "source": [
        "importancia = forest.feature_importances_\r\n",
        "\r\n",
        "for i,v in enumerate(importancia):\r\n",
        "    \r\n",
        "    plt.bar([x for x in range(len(importancia))], importancia)\r\n",
        "plt.title(\"importancia de Features\")\r\n",
        "plt.ylabel(\"values\")\r\n",
        "plt.xlabel(\"Features\")\r\n",
        "plt.show()"
      ],
      "execution_count": null,
      "outputs": [
        {
          "output_type": "display_data",
          "data": {
            "image/png": "[encoded data removed]",
            "text/plain": [
              "<Figure size 432x288 with 1 Axes>"
            ]
          },
          "metadata": {
            "tags": [],
            "needs_background": "light"
          }
        }
      ]
    },
    {
      "cell_type": "code",
      "metadata": {
        "colab": {
          "base_uri": "https://localhost:8080/"
        },
        "id": "_7W5-kwWfyQX",
        "outputId": "daf786fa-3893-40a8-9cf4-5ba8bad3b91a"
      },
      "source": [
        "model_RF = GridSearchCV(forest, params_forest, cv=2,n_jobs=-1)\r\n",
        "model_RF.fit(X_train,y_train)"
      ],
      "execution_count": null,
      "outputs": [
        {
          "output_type": "stream",
          "text": [
            "/usr/local/lib/python3.6/dist-packages/joblib/externals/loky/process_executor.py:691: UserWarning: A worker stopped while some jobs were given to the executor. This can be caused by a too short worker timeout or by a memory leak.\n",
            "  \"timeout or by a memory leak.\", UserWarning\n"
          ],
          "name": "stderr"
        },
        {
          "output_type": "execute_result",
          "data": {
            "text/plain": [
              "GridSearchCV(cv=2, error_score=nan,\n",
              "             estimator=RandomForestRegressor(bootstrap=True, ccp_alpha=0.0,\n",
              "                                             criterion='mse', max_depth=None,\n",
              "                                             max_features='auto',\n",
              "                                             max_leaf_nodes=None,\n",
              "                                             max_samples=None,\n",
              "                                             min_impurity_decrease=0.0,\n",
              "                                             min_impurity_split=None,\n",
              "                                             min_samples_leaf=1,\n",
              "                                             min_samples_split=2,\n",
              "                                             min_weight_fraction_leaf=0.0,\n",
              "                                             n_estimators=100, n_jobs=None,\n",
              "                                             oob_score=False, random_state=42,\n",
              "                                             verbose=0, warm_start=False),\n",
              "             iid='deprecated', n_jobs=-1,\n",
              "             param_grid={'bootstrap': [False], 'criterion': ['mse'],\n",
              "                         'max_depth': [None], 'max_features': ['sqrt'],\n",
              "                         'n_estimators': [200, 250, 300, 350, 400, 450, 500,\n",
              "                                          550]},\n",
              "             pre_dispatch='2*n_jobs', refit=True, return_train_score=False,\n",
              "             scoring=None, verbose=0)"
            ]
          },
          "metadata": {
            "tags": []
          },
          "execution_count": 41
        }
      ]
    },
    {
      "cell_type": "code",
      "metadata": {
        "colab": {
          "base_uri": "https://localhost:8080/"
        },
        "id": "g4L3R6kXfygI",
        "outputId": "462d05fa-1f55-4467-fb8a-54421887c7b9"
      },
      "source": [
        "print(\"Mejores parametros: \"+str(model_RF.best_params_))\r\n",
        "print(\"Mejor Score: \"+str(model_RF.best_score_)+'\\n')\r\n",
        "\r\n",
        "scores = pd.DataFrame(model_RF.cv_results_)\r\n",
        "scores.sort_values(by=\"rank_test_score\")"
      ],
      "execution_count": null,
      "outputs": [
        {
          "output_type": "stream",
          "text": [
            "Mejores parametros: {'bootstrap': False, 'criterion': 'mse', 'max_depth': None, 'max_features': 'sqrt', 'n_estimators': 550}\n",
            "Mejor Score: 0.7069386691682749\n",
            "\n"
          ],
          "name": "stdout"
        },
        {
          "output_type": "execute_result",
          "data": {
            "text/html": [
              "<div>\n",
              "<style scoped>\n",
              "    .dataframe tbody tr th:only-of-type {\n",
              "        vertical-align: middle;\n",
              "    }\n",
              "\n",
              "    .dataframe tbody tr th {\n",
              "        vertical-align: top;\n",
              "    }\n",
              "\n",
              "    .dataframe thead th {\n",
              "        text-align: right;\n",
              "    }\n",
              "</style>\n",
              "<table border=\"1\" class=\"dataframe\">\n",
              "  <thead>\n",
              "    <tr style=\"text-align: right;\">\n",
              "      <th></th>\n",
              "      <th>mean_fit_time</th>\n",
              "      <th>std_fit_time</th>\n",
              "      <th>mean_score_time</th>\n",
              "      <th>std_score_time</th>\n",
              "      <th>param_bootstrap</th>\n",
              "      <th>param_criterion</th>\n",
              "      <th>param_max_depth</th>\n",
              "      <th>param_max_features</th>\n",
              "      <th>param_n_estimators</th>\n",
              "      <th>params</th>\n",
              "      <th>split0_test_score</th>\n",
              "      <th>split1_test_score</th>\n",
              "      <th>mean_test_score</th>\n",
              "      <th>std_test_score</th>\n",
              "      <th>rank_test_score</th>\n",
              "    </tr>\n",
              "  </thead>\n",
              "  <tbody>\n",
              "    <tr>\n",
              "      <th>7</th>\n",
              "      <td>22.643478</td>\n",
              "      <td>0.059119</td>\n",
              "      <td>3.851655</td>\n",
              "      <td>0.037407</td>\n",
              "      <td>False</td>\n",
              "      <td>mse</td>\n",
              "      <td>None</td>\n",
              "      <td>sqrt</td>\n",
              "      <td>550</td>\n",
              "      <td>{'bootstrap': False, 'criterion': 'mse', 'max_...</td>\n",
              "      <td>0.609757</td>\n",
              "      <td>0.804120</td>\n",
              "      <td>0.706939</td>\n",
              "      <td>0.097182</td>\n",
              "      <td>1</td>\n",
              "    </tr>\n",
              "    <tr>\n",
              "      <th>6</th>\n",
              "      <td>20.132343</td>\n",
              "      <td>0.044215</td>\n",
              "      <td>3.575675</td>\n",
              "      <td>0.009846</td>\n",
              "      <td>False</td>\n",
              "      <td>mse</td>\n",
              "      <td>None</td>\n",
              "      <td>sqrt</td>\n",
              "      <td>500</td>\n",
              "      <td>{'bootstrap': False, 'criterion': 'mse', 'max_...</td>\n",
              "      <td>0.609705</td>\n",
              "      <td>0.803754</td>\n",
              "      <td>0.706730</td>\n",
              "      <td>0.097025</td>\n",
              "      <td>2</td>\n",
              "    </tr>\n",
              "    <tr>\n",
              "      <th>4</th>\n",
              "      <td>16.642779</td>\n",
              "      <td>0.035387</td>\n",
              "      <td>2.824463</td>\n",
              "      <td>0.005682</td>\n",
              "      <td>False</td>\n",
              "      <td>mse</td>\n",
              "      <td>None</td>\n",
              "      <td>sqrt</td>\n",
              "      <td>400</td>\n",
              "      <td>{'bootstrap': False, 'criterion': 'mse', 'max_...</td>\n",
              "      <td>0.609401</td>\n",
              "      <td>0.803038</td>\n",
              "      <td>0.706220</td>\n",
              "      <td>0.096818</td>\n",
              "      <td>3</td>\n",
              "    </tr>\n",
              "    <tr>\n",
              "      <th>5</th>\n",
              "      <td>18.080991</td>\n",
              "      <td>0.024271</td>\n",
              "      <td>3.183474</td>\n",
              "      <td>0.000377</td>\n",
              "      <td>False</td>\n",
              "      <td>mse</td>\n",
              "      <td>None</td>\n",
              "      <td>sqrt</td>\n",
              "      <td>450</td>\n",
              "      <td>{'bootstrap': False, 'criterion': 'mse', 'max_...</td>\n",
              "      <td>0.609600</td>\n",
              "      <td>0.802459</td>\n",
              "      <td>0.706030</td>\n",
              "      <td>0.096429</td>\n",
              "      <td>4</td>\n",
              "    </tr>\n",
              "    <tr>\n",
              "      <th>3</th>\n",
              "      <td>14.228011</td>\n",
              "      <td>0.005084</td>\n",
              "      <td>2.478129</td>\n",
              "      <td>0.004158</td>\n",
              "      <td>False</td>\n",
              "      <td>mse</td>\n",
              "      <td>None</td>\n",
              "      <td>sqrt</td>\n",
              "      <td>350</td>\n",
              "      <td>{'bootstrap': False, 'criterion': 'mse', 'max_...</td>\n",
              "      <td>0.609369</td>\n",
              "      <td>0.801688</td>\n",
              "      <td>0.705528</td>\n",
              "      <td>0.096160</td>\n",
              "      <td>5</td>\n",
              "    </tr>\n",
              "    <tr>\n",
              "      <th>2</th>\n",
              "      <td>12.075593</td>\n",
              "      <td>0.026755</td>\n",
              "      <td>2.129276</td>\n",
              "      <td>0.009143</td>\n",
              "      <td>False</td>\n",
              "      <td>mse</td>\n",
              "      <td>None</td>\n",
              "      <td>sqrt</td>\n",
              "      <td>300</td>\n",
              "      <td>{'bootstrap': False, 'criterion': 'mse', 'max_...</td>\n",
              "      <td>0.609275</td>\n",
              "      <td>0.798714</td>\n",
              "      <td>0.703995</td>\n",
              "      <td>0.094719</td>\n",
              "      <td>6</td>\n",
              "    </tr>\n",
              "    <tr>\n",
              "      <th>1</th>\n",
              "      <td>10.072681</td>\n",
              "      <td>0.051253</td>\n",
              "      <td>1.769895</td>\n",
              "      <td>0.003239</td>\n",
              "      <td>False</td>\n",
              "      <td>mse</td>\n",
              "      <td>None</td>\n",
              "      <td>sqrt</td>\n",
              "      <td>250</td>\n",
              "      <td>{'bootstrap': False, 'criterion': 'mse', 'max_...</td>\n",
              "      <td>0.609269</td>\n",
              "      <td>0.797976</td>\n",
              "      <td>0.703622</td>\n",
              "      <td>0.094354</td>\n",
              "      <td>7</td>\n",
              "    </tr>\n",
              "    <tr>\n",
              "      <th>0</th>\n",
              "      <td>8.317667</td>\n",
              "      <td>0.036371</td>\n",
              "      <td>1.424400</td>\n",
              "      <td>0.009045</td>\n",
              "      <td>False</td>\n",
              "      <td>mse</td>\n",
              "      <td>None</td>\n",
              "      <td>sqrt</td>\n",
              "      <td>200</td>\n",
              "      <td>{'bootstrap': False, 'criterion': 'mse', 'max_...</td>\n",
              "      <td>0.609123</td>\n",
              "      <td>0.796265</td>\n",
              "      <td>0.702694</td>\n",
              "      <td>0.093571</td>\n",
              "      <td>8</td>\n",
              "    </tr>\n",
              "  </tbody>\n",
              "</table>\n",
              "</div>"
            ],
            "text/plain": [
              "   mean_fit_time  std_fit_time  ...  std_test_score  rank_test_score\n",
              "7      22.643478      0.059119  ...        0.097182                1\n",
              "6      20.132343      0.044215  ...        0.097025                2\n",
              "4      16.642779      0.035387  ...        0.096818                3\n",
              "5      18.080991      0.024271  ...        0.096429                4\n",
              "3      14.228011      0.005084  ...        0.096160                5\n",
              "2      12.075593      0.026755  ...        0.094719                6\n",
              "1      10.072681      0.051253  ...        0.094354                7\n",
              "0       8.317667      0.036371  ...        0.093571                8\n",
              "\n",
              "[8 rows x 15 columns]"
            ]
          },
          "metadata": {
            "tags": []
          },
          "execution_count": 42
        }
      ]
    },
    {
      "cell_type": "code",
      "metadata": {
        "id": "CZZk7VnMf5nf"
      },
      "source": [
        "forest_gv=model_RF.predict(X_test)"
      ],
      "execution_count": null,
      "outputs": []
    },
    {
      "cell_type": "code",
      "metadata": {
        "id": "y-ctghgJf5yZ"
      },
      "source": [
        "Rf_Result=model_RF.score(X_test,y_test)"
      ],
      "execution_count": null,
      "outputs": []
    },
    {
      "cell_type": "code",
      "metadata": {
        "colab": {
          "base_uri": "https://localhost:8080/"
        },
        "id": "TCeps1myf_r1",
        "outputId": "6595a275-c82b-40be-c22a-1a3a5bb4d23c"
      },
      "source": [
        "from sklearn.metrics import mean_squared_error\r\n",
        "\r\n",
        "y_train_pred_RF = model_RF.predict(X_train)\r\n",
        "y_test_pred_RF = model_RF.predict(X_test)\r\n",
        "\r\n",
        "rmse_train_RF = np.sqrt(mean_squared_error(y_train, y_train_pred_RF))\r\n",
        "rmse_test_RF = np.sqrt(mean_squared_error(y_test, y_test_pred_RF))\r\n",
        "\r\n",
        "print(\"RMSE en Train es:\",rmse_train_RF)\r\n",
        "print(\"RMSE en Test es:\",rmse_test_RF)"
      ],
      "execution_count": null,
      "outputs": [
        {
          "output_type": "stream",
          "text": [
            "RMSE en Train es: 63594.928267516116\n",
            "RMSE en Test es: 131265.89911420745\n"
          ],
          "name": "stdout"
        }
      ]
    },
    {
      "cell_type": "code",
      "metadata": {
        "colab": {
          "base_uri": "https://localhost:8080/"
        },
        "id": "vZVVAnA3gAIb",
        "outputId": "04bc0225-92d1-4fe9-d0e3-bc7d1fff7d62"
      },
      "source": [
        "print('DATOS DEL MODELO RANDOM FOREST')\r\n",
        "print()\r\n",
        "print('Precisión del modelo:')\r\n",
        "print(model_RF.score(X_train, y_train))"
      ],
      "execution_count": null,
      "outputs": [
        {
          "output_type": "stream",
          "text": [
            "DATOS DEL MODELO RANDOM FOREST\n",
            "\n",
            "Precisión del modelo:\n",
            "0.9633729781073991\n"
          ],
          "name": "stdout"
        }
      ]
    },
    {
      "cell_type": "code",
      "metadata": {
        "id": "632yRe0gzQSL",
        "colab": {
          "base_uri": "https://localhost:8080/"
        },
        "outputId": "9706b688-3279-4aa6-8120-e36be4aa6d1d"
      },
      "source": [
        "import sklearn.metrics as metrics\n",
        "# Definimos las listas vacias para los valores \n",
        "lista_train = []\n",
        "lista_test = []\n",
        "#oob_score = []\n",
        "\n",
        "# Definimos la lista de valores de max_depth que vamos a explorar\n",
        "n_estimators= [5,10,50,100,150,200,250,300,350,400,450,500,550]\n",
        "\n",
        "# Generamos en loop sobre los distintos valores de profundidad \n",
        "for n_estimator in n_estimators:\n",
        "    \n",
        "    #RFR = RandomForestRegressor( random_state = 42)\n",
        "    #forest = RandomForestRegressor(random_state=42)\n",
        "    #params_forest = { \"n_estimators\":[500,1000,1500],\"criterion\":[\"mse\"],\"max_depth\":[None],\"max_features\":[\"sqrt\"],\"bootstrap\":[False]}\n",
        "    model_RF = GridSearchCV(forest,params_forest = n_estimator, cv=2,n_jobs=-1)\n",
        "\n",
        "    # Entrenar el modelo\n",
        "    #model_RF.fit(X_train,y_train)\n",
        "    model_RF.fit(X_train,y_train)\n",
        "    \n",
        "    # Predecir y evaluar sobre el set de entrenamiento\n",
        "    y_train_pred =model_RF.predict(X_train)\n",
        "    RMSE_train = np.sqrt(metrics.mean_squared_error(y_train, y_train_pred))\n",
        "    \n",
        "    # Predecir y evaluar sobre el set de evaluación\n",
        "    y_test_pred = model_RF.predict(X_test)\n",
        "    RMSE_test = np.sqrt(metrics.mean_squared_error(y_test, y_test_pred))\n",
        "    \n",
        "    # Agregar la información a las listas\n",
        "    lista_train.append(RMSE_train)\n",
        "    lista_test.append(RMSE_test)\n",
        "    #oob_score.append(RFR.oob_score_)"
      ],
      "execution_count": null,
      "outputs": [
        {
          "output_type": "stream",
          "text": [
            "/usr/local/lib/python3.6/dist-packages/joblib/externals/loky/process_executor.py:691: UserWarning: A worker stopped while some jobs were given to the executor. This can be caused by a too short worker timeout or by a memory leak.\n",
            "  \"timeout or by a memory leak.\", UserWarning\n",
            "/usr/local/lib/python3.6/dist-packages/joblib/externals/loky/process_executor.py:691: UserWarning: A worker stopped while some jobs were given to the executor. This can be caused by a too short worker timeout or by a memory leak.\n",
            "  \"timeout or by a memory leak.\", UserWarning\n",
            "/usr/local/lib/python3.6/dist-packages/joblib/externals/loky/process_executor.py:691: UserWarning: A worker stopped while some jobs were given to the executor. This can be caused by a too short worker timeout or by a memory leak.\n",
            "  \"timeout or by a memory leak.\", UserWarning\n",
            "/usr/local/lib/python3.6/dist-packages/joblib/externals/loky/process_executor.py:691: UserWarning: A worker stopped while some jobs were given to the executor. This can be caused by a too short worker timeout or by a memory leak.\n",
            "  \"timeout or by a memory leak.\", UserWarning\n",
            "/usr/local/lib/python3.6/dist-packages/joblib/externals/loky/process_executor.py:691: UserWarning: A worker stopped while some jobs were given to the executor. This can be caused by a too short worker timeout or by a memory leak.\n",
            "  \"timeout or by a memory leak.\", UserWarning\n",
            "/usr/local/lib/python3.6/dist-packages/joblib/externals/loky/process_executor.py:691: UserWarning: A worker stopped while some jobs were given to the executor. This can be caused by a too short worker timeout or by a memory leak.\n",
            "  \"timeout or by a memory leak.\", UserWarning\n",
            "/usr/local/lib/python3.6/dist-packages/joblib/externals/loky/process_executor.py:691: UserWarning: A worker stopped while some jobs were given to the executor. This can be caused by a too short worker timeout or by a memory leak.\n",
            "  \"timeout or by a memory leak.\", UserWarning\n",
            "/usr/local/lib/python3.6/dist-packages/joblib/externals/loky/process_executor.py:691: UserWarning: A worker stopped while some jobs were given to the executor. This can be caused by a too short worker timeout or by a memory leak.\n",
            "  \"timeout or by a memory leak.\", UserWarning\n",
            "/usr/local/lib/python3.6/dist-packages/joblib/externals/loky/process_executor.py:691: UserWarning: A worker stopped while some jobs were given to the executor. This can be caused by a too short worker timeout or by a memory leak.\n",
            "  \"timeout or by a memory leak.\", UserWarning\n",
            "/usr/local/lib/python3.6/dist-packages/joblib/externals/loky/process_executor.py:691: UserWarning: A worker stopped while some jobs were given to the executor. This can be caused by a too short worker timeout or by a memory leak.\n",
            "  \"timeout or by a memory leak.\", UserWarning\n",
            "/usr/local/lib/python3.6/dist-packages/joblib/externals/loky/process_executor.py:691: UserWarning: A worker stopped while some jobs were given to the executor. This can be caused by a too short worker timeout or by a memory leak.\n",
            "  \"timeout or by a memory leak.\", UserWarning\n",
            "/usr/local/lib/python3.6/dist-packages/joblib/externals/loky/process_executor.py:691: UserWarning: A worker stopped while some jobs were given to the executor. This can be caused by a too short worker timeout or by a memory leak.\n",
            "  \"timeout or by a memory leak.\", UserWarning\n",
            "/usr/local/lib/python3.6/dist-packages/joblib/externals/loky/process_executor.py:691: UserWarning: A worker stopped while some jobs were given to the executor. This can be caused by a too short worker timeout or by a memory leak.\n",
            "  \"timeout or by a memory leak.\", UserWarning\n"
          ],
          "name": "stderr"
        }
      ]
    },
    {
      "cell_type": "code",
      "metadata": {
        "id": "X97rCryZzQSM",
        "colab": {
          "base_uri": "https://localhost:8080/",
          "height": 302
        },
        "outputId": "656d2695-517c-4444-fdc1-d3b95fe6c9fb"
      },
      "source": [
        "plt.plot(n_estimators, lista_train,'o-',label='train' )\n",
        "plt.plot(n_estimators, lista_test,'o-',label='test')\n",
        "plt.legend()\n",
        "plt.xlabel('N_estimators')\n",
        "plt.ylabel('RMSE')"
      ],
      "execution_count": null,
      "outputs": [
        {
          "output_type": "execute_result",
          "data": {
            "text/plain": [
              "Text(0, 0.5, 'RMSE')"
            ]
          },
          "metadata": {
            "tags": []
          },
          "execution_count": 45
        },
        {
          "output_type": "display_data",
          "data": {
            "image/png": "[encoded data removed]",
            "text/plain": [
              "<Figure size 432x288 with 1 Axes>"
            ]
          },
          "metadata": {
            "tags": []
          }
        }
      ]
    },
    {
      "cell_type": "markdown",
      "metadata": {
        "id": "Jn29WxtNzQSN"
      },
      "source": [
        "\n",
        "**2-Modelo=BaggingRegressor** "
      ]
    },
    {
      "cell_type": "code",
      "metadata": {
        "id": "0xPd035RzQSN"
      },
      "source": [
        "from sklearn.ensemble import BaggingRegressor"
      ],
      "execution_count": null,
      "outputs": []
    },
    {
      "cell_type": "code",
      "metadata": {
        "id": "NdfL0ft3fWhb",
        "colab": {
          "base_uri": "https://localhost:8080/"
        },
        "outputId": "f7332e5d-8578-40b2-ea3e-ebda46eddfc7"
      },
      "source": [
        "bagging = BaggingRegressor(random_state=42)\n",
        "params_bagging={\"n_estimators\":[10,50,100,150,200], \"bootstrap\":[True], \"warm_start\":[True],   }\n",
        "bagging.fit"
      ],
      "execution_count": null,
      "outputs": [
        {
          "output_type": "execute_result",
          "data": {
            "text/plain": [
              "<bound method BaseBagging.fit of BaggingRegressor(base_estimator=None, bootstrap=True, bootstrap_features=False,\n",
              "                 max_features=1.0, max_samples=1.0, n_estimators=10,\n",
              "                 n_jobs=None, oob_score=False, random_state=42, verbose=0,\n",
              "                 warm_start=False)>"
            ]
          },
          "metadata": {
            "tags": []
          },
          "execution_count": 45
        }
      ]
    },
    {
      "cell_type": "code",
      "metadata": {
        "id": "zi0HZIhyfWhb",
        "colab": {
          "base_uri": "https://localhost:8080/"
        },
        "outputId": "85409466-0d1f-4889-b461-b3993432dcd4"
      },
      "source": [
        "mod_bagging = GridSearchCV(bagging,param_grid=params_bagging, cv=2,n_jobs=-1)\n",
        "mod_bagging.fit(X_train,y_train)"
      ],
      "execution_count": null,
      "outputs": [
        {
          "output_type": "execute_result",
          "data": {
            "text/plain": [
              "GridSearchCV(cv=2, error_score=nan,\n",
              "             estimator=BaggingRegressor(base_estimator=None, bootstrap=True,\n",
              "                                        bootstrap_features=False,\n",
              "                                        max_features=1.0, max_samples=1.0,\n",
              "                                        n_estimators=10, n_jobs=None,\n",
              "                                        oob_score=False, random_state=42,\n",
              "                                        verbose=0, warm_start=False),\n",
              "             iid='deprecated', n_jobs=-1,\n",
              "             param_grid={'bootstrap': [True],\n",
              "                         'n_estimators': [10, 50, 100, 150, 200],\n",
              "                         'warm_start': [True]},\n",
              "             pre_dispatch='2*n_jobs', refit=True, return_train_score=False,\n",
              "             scoring=None, verbose=0)"
            ]
          },
          "metadata": {
            "tags": []
          },
          "execution_count": 44
        }
      ]
    },
    {
      "cell_type": "code",
      "metadata": {
        "id": "_ucfW6cEfWhc",
        "colab": {
          "base_uri": "https://localhost:8080/",
          "height": 503
        },
        "outputId": "24bf4a4d-5da6-4e24-fa88-5d35292f3250"
      },
      "source": [
        "print(\"Mejores parametros: \"+str(mod_bagging.best_params_))\n",
        "print(\"Mejor Score: \"+str(mod_bagging.best_score_)+'\\n')\n",
        "\n",
        "scores = pd.DataFrame(mod_bagging.cv_results_)\n",
        "scores.sort_values(by=\"rank_test_score\")"
      ],
      "execution_count": null,
      "outputs": [
        {
          "output_type": "stream",
          "text": [
            "Mejores parametros: {'bootstrap': True, 'n_estimators': 150, 'warm_start': True}\n",
            "Mejor Score: 0.7055134240872245\n",
            "\n"
          ],
          "name": "stdout"
        },
        {
          "output_type": "execute_result",
          "data": {
            "text/html": [
              "<div>\n",
              "<style scoped>\n",
              "    .dataframe tbody tr th:only-of-type {\n",
              "        vertical-align: middle;\n",
              "    }\n",
              "\n",
              "    .dataframe tbody tr th {\n",
              "        vertical-align: top;\n",
              "    }\n",
              "\n",
              "    .dataframe thead th {\n",
              "        text-align: right;\n",
              "    }\n",
              "</style>\n",
              "<table border=\"1\" class=\"dataframe\">\n",
              "  <thead>\n",
              "    <tr style=\"text-align: right;\">\n",
              "      <th></th>\n",
              "      <th>mean_fit_time</th>\n",
              "      <th>std_fit_time</th>\n",
              "      <th>mean_score_time</th>\n",
              "      <th>std_score_time</th>\n",
              "      <th>param_bootstrap</th>\n",
              "      <th>param_n_estimators</th>\n",
              "      <th>param_warm_start</th>\n",
              "      <th>params</th>\n",
              "      <th>split0_test_score</th>\n",
              "      <th>split1_test_score</th>\n",
              "      <th>mean_test_score</th>\n",
              "      <th>std_test_score</th>\n",
              "      <th>rank_test_score</th>\n",
              "    </tr>\n",
              "  </thead>\n",
              "  <tbody>\n",
              "    <tr>\n",
              "      <th>3</th>\n",
              "      <td>9.037522</td>\n",
              "      <td>0.001918</td>\n",
              "      <td>1.190215</td>\n",
              "      <td>0.010532</td>\n",
              "      <td>True</td>\n",
              "      <td>150</td>\n",
              "      <td>True</td>\n",
              "      <td>{'bootstrap': True, 'n_estimators': 150, 'warm...</td>\n",
              "      <td>0.605270</td>\n",
              "      <td>0.805757</td>\n",
              "      <td>0.705513</td>\n",
              "      <td>0.100243</td>\n",
              "      <td>1</td>\n",
              "    </tr>\n",
              "    <tr>\n",
              "      <th>2</th>\n",
              "      <td>6.050760</td>\n",
              "      <td>0.006103</td>\n",
              "      <td>0.784254</td>\n",
              "      <td>0.004948</td>\n",
              "      <td>True</td>\n",
              "      <td>100</td>\n",
              "      <td>True</td>\n",
              "      <td>{'bootstrap': True, 'n_estimators': 100, 'warm...</td>\n",
              "      <td>0.605033</td>\n",
              "      <td>0.805962</td>\n",
              "      <td>0.705497</td>\n",
              "      <td>0.100464</td>\n",
              "      <td>2</td>\n",
              "    </tr>\n",
              "    <tr>\n",
              "      <th>1</th>\n",
              "      <td>3.029284</td>\n",
              "      <td>0.006395</td>\n",
              "      <td>0.399042</td>\n",
              "      <td>0.005112</td>\n",
              "      <td>True</td>\n",
              "      <td>50</td>\n",
              "      <td>True</td>\n",
              "      <td>{'bootstrap': True, 'n_estimators': 50, 'warm_...</td>\n",
              "      <td>0.605771</td>\n",
              "      <td>0.804381</td>\n",
              "      <td>0.705076</td>\n",
              "      <td>0.099305</td>\n",
              "      <td>3</td>\n",
              "    </tr>\n",
              "    <tr>\n",
              "      <th>4</th>\n",
              "      <td>12.021767</td>\n",
              "      <td>0.012164</td>\n",
              "      <td>1.572540</td>\n",
              "      <td>0.000514</td>\n",
              "      <td>True</td>\n",
              "      <td>200</td>\n",
              "      <td>True</td>\n",
              "      <td>{'bootstrap': True, 'n_estimators': 200, 'warm...</td>\n",
              "      <td>0.605168</td>\n",
              "      <td>0.804802</td>\n",
              "      <td>0.704985</td>\n",
              "      <td>0.099817</td>\n",
              "      <td>4</td>\n",
              "    </tr>\n",
              "    <tr>\n",
              "      <th>0</th>\n",
              "      <td>0.622089</td>\n",
              "      <td>0.006013</td>\n",
              "      <td>0.081035</td>\n",
              "      <td>0.000345</td>\n",
              "      <td>True</td>\n",
              "      <td>10</td>\n",
              "      <td>True</td>\n",
              "      <td>{'bootstrap': True, 'n_estimators': 10, 'warm_...</td>\n",
              "      <td>0.599732</td>\n",
              "      <td>0.794796</td>\n",
              "      <td>0.697264</td>\n",
              "      <td>0.097532</td>\n",
              "      <td>5</td>\n",
              "    </tr>\n",
              "  </tbody>\n",
              "</table>\n",
              "</div>"
            ],
            "text/plain": [
              "   mean_fit_time  std_fit_time  ...  std_test_score  rank_test_score\n",
              "3       9.037522      0.001918  ...        0.100243                1\n",
              "2       6.050760      0.006103  ...        0.100464                2\n",
              "1       3.029284      0.006395  ...        0.099305                3\n",
              "4      12.021767      0.012164  ...        0.099817                4\n",
              "0       0.622089      0.006013  ...        0.097532                5\n",
              "\n",
              "[5 rows x 13 columns]"
            ]
          },
          "metadata": {
            "tags": []
          },
          "execution_count": 46
        }
      ]
    },
    {
      "cell_type": "code",
      "metadata": {
        "id": "A4siOc28fWhc"
      },
      "source": [
        "bagging_gv=mod_bagging.predict(X_test)\n",
        "bagging_result=mod_bagging.score(X_test,y_test)"
      ],
      "execution_count": null,
      "outputs": []
    },
    {
      "cell_type": "code",
      "metadata": {
        "id": "2pgGlMiXfWhc",
        "colab": {
          "base_uri": "https://localhost:8080/"
        },
        "outputId": "f096712a-6d16-4731-82a6-e866ee8ec9e8"
      },
      "source": [
        "from sklearn.metrics import mean_squared_error\n",
        "\n",
        "y_train_pred_bagging = mod_bagging.predict(X_train)\n",
        "y_test_pred_bagging = mod_bagging.predict(X_test)\n",
        "\n",
        "rmse_train_bagging = np.sqrt(mean_squared_error(y_train, y_train_pred_bagging))\n",
        "rmse_test_bagging = np.sqrt(mean_squared_error(y_test, y_test_pred_bagging))\n",
        "\n",
        "print(\"RMSE en Train es:\",rmse_train_bagging)\n",
        "print(\"RMSE en Test es:\",rmse_test_bagging)"
      ],
      "execution_count": null,
      "outputs": [
        {
          "output_type": "stream",
          "text": [
            "RMSE en Train es: 89142.75104990104\n",
            "RMSE en Test es: 160296.92986309552\n"
          ],
          "name": "stdout"
        }
      ]
    },
    {
      "cell_type": "code",
      "metadata": {
        "id": "gcrY1ONfzQSO",
        "colab": {
          "base_uri": "https://localhost:8080/"
        },
        "outputId": "f2b598ac-33d5-4c87-e493-36d358a85f39"
      },
      "source": [
        "print('DATOS DEL MODELO bagging')\n",
        "print()\n",
        "print('Precisión del modelo:')\n",
        "print(mod_bagging.score(X_train, y_train))"
      ],
      "execution_count": null,
      "outputs": [
        {
          "output_type": "stream",
          "text": [
            "DATOS DEL MODELO bagging\n",
            "\n",
            "Precisión del modelo:\n",
            "0.9280337770305098\n"
          ],
          "name": "stdout"
        }
      ]
    },
    {
      "cell_type": "code",
      "metadata": {
        "id": "-DFQaVWCzQSO"
      },
      "source": [
        "# Definimos las listas vacias para los valores de accuracy deseados\n",
        "lista_train = []\n",
        "lista_test = []\n",
        "#X_train = []\n",
        "#y_test = []\n",
        "\n",
        "# Definimos la lista de valores de max_depth que vamos a explorar\n",
        "n_estimators= [5,10,50,100,150,200,250,300,350,400,450,500,550]\n",
        "\n",
        "# Generamos en loop sobre los distintos valores de profundidad \n",
        "for n_estimator in n_estimators:\n",
        "    \n",
        "    #DecisionTreeRegressor(max_depth = max_depth, random_state=42)\n",
        "    mod_bagging = GridSearchCV(bagging,param_grid=params_bagging, cv=2,n_jobs=-1)\n",
        "   \n",
        "\n",
        "    # Entrenar el modelo\n",
        "    mod_bagging.fit(X_train, y_train)\n",
        "    #RFR.fit(X_train,y_train)\n",
        "    \n",
        "    # Predecir y evaluar sobre el set de entrenamiento\n",
        "    y_train_pred =mod_bagging.predict(X_train)\n",
        "    RMSE_train = np.sqrt(metrics.mean_squared_error(y_train, y_train_pred))\n",
        "    #MAE_train = metrics.mean_absolute_error(y_test, y_pred)\n",
        "    #R2_train = tree.score(y_train, y_train_pred)\n",
        "    \n",
        "    \n",
        "    # Predecir y evaluar sobre el set de evaluación\n",
        "    y_test_pred = mod_bagging.predict(X_test)\n",
        "    RMSE_test = np.sqrt(metrics.mean_squared_error(y_test, y_test_pred))\n",
        "    #MAE_test = metrics.mean_absolute_error(y_test, y_pred)\n",
        "    #R2_test = tree.score(y_test, y_test_pred)\n",
        "   \n",
        "    # Agregar la información a las listas\n",
        "    lista_train.append(RMSE_train)\n",
        "    lista_test.append(RMSE_test)"
      ],
      "execution_count": null,
      "outputs": []
    },
    {
      "cell_type": "code",
      "metadata": {
        "id": "N_-V-2nlzQSP",
        "outputId": "05676c71-d25e-4b9a-e6c6-1fcd6a780f82"
      },
      "source": [
        "plt.plot(n_estimators,lista_train,'o-',label='train' )\n",
        "plt.plot(n_estimators,lista_test,'o-',label='test')\n",
        "plt.legend()\n",
        "plt.xlabel('N_estimators')\n",
        "plt.ylabel('RMSE')"
      ],
      "execution_count": null,
      "outputs": [
        {
          "output_type": "execute_result",
          "data": {
            "text/plain": [
              "Text(0, 0.5, 'RMSE')"
            ]
          },
          "metadata": {
            "tags": []
          },
          "execution_count": 122
        },
        {
          "output_type": "display_data",
          "data": {
            "image/png": "[encoded data removed]",
            "text/plain": [
              "<Figure size 432x288 with 1 Axes>"
            ]
          },
          "metadata": {
            "tags": []
          }
        }
      ]
    },
    {
      "cell_type": "markdown",
      "metadata": {
        "id": "sB60bZxVzQSP"
      },
      "source": [
        "\n",
        "**3-Modelo=AdaBoostRegressor** "
      ]
    },
    {
      "cell_type": "code",
      "metadata": {
        "id": "8gnMG61IzQSP"
      },
      "source": [
        "from sklearn.ensemble import AdaBoostRegressor"
      ],
      "execution_count": null,
      "outputs": []
    },
    {
      "cell_type": "code",
      "metadata": {
        "id": "Ejgzl5wozQSQ",
        "colab": {
          "base_uri": "https://localhost:8080/"
        },
        "outputId": "908eb96a-5878-484e-f0af-7001af244970"
      },
      "source": [
        "ada=AdaBoostRegressor(random_state=42)\n",
        "params_ada={\"n_estimators\":[50,100,150.200,250,300,350,400,450,500,550],\"learning_rate\":[0.1],\"loss\":[\"linear\"]}\n",
        "ada.fit(X_train,y_train)"
      ],
      "execution_count": null,
      "outputs": [
        {
          "output_type": "execute_result",
          "data": {
            "text/plain": [
              "AdaBoostRegressor(base_estimator=None, learning_rate=1.0, loss='linear',\n",
              "                  n_estimators=50, random_state=42)"
            ]
          },
          "metadata": {
            "tags": []
          },
          "execution_count": 55
        }
      ]
    },
    {
      "cell_type": "code",
      "metadata": {
        "colab": {
          "base_uri": "https://localhost:8080/",
          "height": 301
        },
        "id": "ItJB86n5nczx",
        "outputId": "5a58eabe-2a50-4b5d-e960-67e36f53e4bc"
      },
      "source": [
        "importancia = ada.feature_importances_\r\n",
        "\r\n",
        "for i,v in enumerate(importancia):\r\n",
        "    \r\n",
        "    plt.bar([x for x in range(len(importancia))], importancia)\r\n",
        "plt.title(\"importancia de Features\")\r\n",
        "plt.ylabel(\"values\")\r\n",
        "plt.xlabel(\"Features\")\r\n",
        "plt.show()"
      ],
      "execution_count": null,
      "outputs": [
        {
          "output_type": "display_data",
          "data": {
            "image/png": "[encoded data removed]",
            "text/plain": [
              "<Figure size 432x288 with 1 Axes>"
            ]
          },
          "metadata": {
            "tags": []
          }
        }
      ]
    },
    {
      "cell_type": "code",
      "metadata": {
        "id": "-0X2pTyazQSQ",
        "colab": {
          "base_uri": "https://localhost:8080/"
        },
        "outputId": "968400ed-a93b-489c-8197-1c3a2e7ac375"
      },
      "source": [
        "model_ada = GridSearchCV(ada,param_grid=params_ada, cv=2,n_jobs=-1)\n",
        "model_ada.fit(X_train,y_train)"
      ],
      "execution_count": null,
      "outputs": [
        {
          "output_type": "stream",
          "text": [
            "/usr/local/lib/python3.6/dist-packages/joblib/externals/loky/process_executor.py:691: UserWarning: A worker stopped while some jobs were given to the executor. This can be caused by a too short worker timeout or by a memory leak.\n",
            "  \"timeout or by a memory leak.\", UserWarning\n"
          ],
          "name": "stderr"
        },
        {
          "output_type": "execute_result",
          "data": {
            "text/plain": [
              "GridSearchCV(cv=2, error_score=nan,\n",
              "             estimator=AdaBoostRegressor(base_estimator=None, learning_rate=1.0,\n",
              "                                         loss='linear', n_estimators=50,\n",
              "                                         random_state=42),\n",
              "             iid='deprecated', n_jobs=-1,\n",
              "             param_grid={'learning_rate': [0.1], 'loss': ['linear'],\n",
              "                         'n_estimators': [50, 100, 150.2, 250, 300, 350, 400,\n",
              "                                          450, 500, 550]},\n",
              "             pre_dispatch='2*n_jobs', refit=True, return_train_score=False,\n",
              "             scoring=None, verbose=0)"
            ]
          },
          "metadata": {
            "tags": []
          },
          "execution_count": 57
        }
      ]
    },
    {
      "cell_type": "code",
      "metadata": {
        "colab": {
          "base_uri": "https://localhost:8080/"
        },
        "id": "OerCIyW_9l_K",
        "outputId": "e82e5b8f-7b6c-4615-ca32-c3732e1779a9"
      },
      "source": [
        "from sklearn.metrics import mean_squared_error\r\n",
        "\r\n",
        "y_train_pred_model_ada = model_ada.predict(X_train)\r\n",
        "y_test_pred_model_ada = model_ada.predict(X_test)\r\n",
        "\r\n",
        "rmse_train_model_ada = np.sqrt(mean_squared_error(y_train, y_train_pred_model_ada))\r\n",
        "rmse_test_model_ada = np.sqrt(mean_squared_error(y_test, y_test_pred_model_ada))\r\n",
        "\r\n",
        "print(\"RMSE en Train es:\",rmse_train_model_ada)\r\n",
        "print(\"RMSE en Test es:\",rmse_test_model_ada)"
      ],
      "execution_count": null,
      "outputs": [
        {
          "output_type": "stream",
          "text": [
            "RMSE en Train es: 193739.1944220472\n",
            "RMSE en Test es: 228045.7363662213\n"
          ],
          "name": "stdout"
        }
      ]
    },
    {
      "cell_type": "code",
      "metadata": {
        "id": "BA9zMTpmzQSQ",
        "colab": {
          "base_uri": "https://localhost:8080/"
        },
        "outputId": "da4d1f29-1644-4d68-ddf2-2c2d85f47b23"
      },
      "source": [
        "print('DATOS DEL MODELO AdaBoostRegressor')\n",
        "print()\n",
        "print('Precisión del modelo:')\n",
        "print(model_ada.score(X_train, y_train))"
      ],
      "execution_count": null,
      "outputs": [
        {
          "output_type": "stream",
          "text": [
            "DATOS DEL MODELO AdaBoostRegressor\n",
            "\n",
            "Precisión del modelo:\n",
            "0.660068333309462\n"
          ],
          "name": "stdout"
        }
      ]
    },
    {
      "cell_type": "code",
      "metadata": {
        "id": "WiN669K2fWhe",
        "colab": {
          "base_uri": "https://localhost:8080/",
          "height": 728
        },
        "outputId": "6d9439da-9870-46d2-9b7a-bfd37cc94176"
      },
      "source": [
        "print(\"Mejores parametros: \"+str(model_ada.best_params_))\n",
        "print(\"Mejor Score: \"+str(model_ada.best_score_)+'\\n')\n",
        "\n",
        "scores = pd.DataFrame(model_ada.cv_results_)\n",
        "scores.sort_values(by=\"rank_test_score\")"
      ],
      "execution_count": null,
      "outputs": [
        {
          "output_type": "stream",
          "text": [
            "Mejores parametros: {'learning_rate': 0.1, 'loss': 'linear', 'n_estimators': 50}\n",
            "Mejor Score: 0.5319574109699752\n",
            "\n"
          ],
          "name": "stdout"
        },
        {
          "output_type": "execute_result",
          "data": {
            "text/html": [
              "<div>\n",
              "<style scoped>\n",
              "    .dataframe tbody tr th:only-of-type {\n",
              "        vertical-align: middle;\n",
              "    }\n",
              "\n",
              "    .dataframe tbody tr th {\n",
              "        vertical-align: top;\n",
              "    }\n",
              "\n",
              "    .dataframe thead th {\n",
              "        text-align: right;\n",
              "    }\n",
              "</style>\n",
              "<table border=\"1\" class=\"dataframe\">\n",
              "  <thead>\n",
              "    <tr style=\"text-align: right;\">\n",
              "      <th></th>\n",
              "      <th>mean_fit_time</th>\n",
              "      <th>std_fit_time</th>\n",
              "      <th>mean_score_time</th>\n",
              "      <th>std_score_time</th>\n",
              "      <th>param_learning_rate</th>\n",
              "      <th>param_loss</th>\n",
              "      <th>param_n_estimators</th>\n",
              "      <th>params</th>\n",
              "      <th>split0_test_score</th>\n",
              "      <th>split1_test_score</th>\n",
              "      <th>mean_test_score</th>\n",
              "      <th>std_test_score</th>\n",
              "      <th>rank_test_score</th>\n",
              "    </tr>\n",
              "  </thead>\n",
              "  <tbody>\n",
              "    <tr>\n",
              "      <th>0</th>\n",
              "      <td>1.961981</td>\n",
              "      <td>0.009328</td>\n",
              "      <td>0.166469</td>\n",
              "      <td>0.003781</td>\n",
              "      <td>0.1</td>\n",
              "      <td>linear</td>\n",
              "      <td>50</td>\n",
              "      <td>{'learning_rate': 0.1, 'loss': 'linear', 'n_es...</td>\n",
              "      <td>0.505582</td>\n",
              "      <td>0.558333</td>\n",
              "      <td>0.531957</td>\n",
              "      <td>0.026375</td>\n",
              "      <td>1</td>\n",
              "    </tr>\n",
              "    <tr>\n",
              "      <th>1</th>\n",
              "      <td>3.867487</td>\n",
              "      <td>0.026259</td>\n",
              "      <td>0.312549</td>\n",
              "      <td>0.006468</td>\n",
              "      <td>0.1</td>\n",
              "      <td>linear</td>\n",
              "      <td>100</td>\n",
              "      <td>{'learning_rate': 0.1, 'loss': 'linear', 'n_es...</td>\n",
              "      <td>0.489510</td>\n",
              "      <td>0.503824</td>\n",
              "      <td>0.496667</td>\n",
              "      <td>0.007157</td>\n",
              "      <td>2</td>\n",
              "    </tr>\n",
              "    <tr>\n",
              "      <th>3</th>\n",
              "      <td>9.047287</td>\n",
              "      <td>0.327601</td>\n",
              "      <td>0.879213</td>\n",
              "      <td>0.048179</td>\n",
              "      <td>0.1</td>\n",
              "      <td>linear</td>\n",
              "      <td>250</td>\n",
              "      <td>{'learning_rate': 0.1, 'loss': 'linear', 'n_es...</td>\n",
              "      <td>0.465473</td>\n",
              "      <td>-0.120616</td>\n",
              "      <td>0.172428</td>\n",
              "      <td>0.293044</td>\n",
              "      <td>3</td>\n",
              "    </tr>\n",
              "    <tr>\n",
              "      <th>4</th>\n",
              "      <td>9.918423</td>\n",
              "      <td>1.157060</td>\n",
              "      <td>0.941034</td>\n",
              "      <td>0.153559</td>\n",
              "      <td>0.1</td>\n",
              "      <td>linear</td>\n",
              "      <td>300</td>\n",
              "      <td>{'learning_rate': 0.1, 'loss': 'linear', 'n_es...</td>\n",
              "      <td>0.465473</td>\n",
              "      <td>-0.250806</td>\n",
              "      <td>0.107334</td>\n",
              "      <td>0.358139</td>\n",
              "      <td>4</td>\n",
              "    </tr>\n",
              "    <tr>\n",
              "      <th>5</th>\n",
              "      <td>10.683921</td>\n",
              "      <td>2.080943</td>\n",
              "      <td>1.105061</td>\n",
              "      <td>0.318376</td>\n",
              "      <td>0.1</td>\n",
              "      <td>linear</td>\n",
              "      <td>350</td>\n",
              "      <td>{'learning_rate': 0.1, 'loss': 'linear', 'n_es...</td>\n",
              "      <td>0.465473</td>\n",
              "      <td>-0.352672</td>\n",
              "      <td>0.056400</td>\n",
              "      <td>0.409073</td>\n",
              "      <td>5</td>\n",
              "    </tr>\n",
              "    <tr>\n",
              "      <th>6</th>\n",
              "      <td>11.038654</td>\n",
              "      <td>2.437627</td>\n",
              "      <td>1.113800</td>\n",
              "      <td>0.320843</td>\n",
              "      <td>0.1</td>\n",
              "      <td>linear</td>\n",
              "      <td>400</td>\n",
              "      <td>{'learning_rate': 0.1, 'loss': 'linear', 'n_es...</td>\n",
              "      <td>0.465473</td>\n",
              "      <td>-0.354240</td>\n",
              "      <td>0.055616</td>\n",
              "      <td>0.409857</td>\n",
              "      <td>6</td>\n",
              "    </tr>\n",
              "    <tr>\n",
              "      <th>7</th>\n",
              "      <td>10.936226</td>\n",
              "      <td>2.247820</td>\n",
              "      <td>1.085512</td>\n",
              "      <td>0.302491</td>\n",
              "      <td>0.1</td>\n",
              "      <td>linear</td>\n",
              "      <td>450</td>\n",
              "      <td>{'learning_rate': 0.1, 'loss': 'linear', 'n_es...</td>\n",
              "      <td>0.465473</td>\n",
              "      <td>-0.354240</td>\n",
              "      <td>0.055616</td>\n",
              "      <td>0.409857</td>\n",
              "      <td>6</td>\n",
              "    </tr>\n",
              "    <tr>\n",
              "      <th>8</th>\n",
              "      <td>10.870328</td>\n",
              "      <td>2.350355</td>\n",
              "      <td>1.129498</td>\n",
              "      <td>0.266797</td>\n",
              "      <td>0.1</td>\n",
              "      <td>linear</td>\n",
              "      <td>500</td>\n",
              "      <td>{'learning_rate': 0.1, 'loss': 'linear', 'n_es...</td>\n",
              "      <td>0.465473</td>\n",
              "      <td>-0.354240</td>\n",
              "      <td>0.055616</td>\n",
              "      <td>0.409857</td>\n",
              "      <td>6</td>\n",
              "    </tr>\n",
              "    <tr>\n",
              "      <th>9</th>\n",
              "      <td>9.143612</td>\n",
              "      <td>0.603750</td>\n",
              "      <td>0.901570</td>\n",
              "      <td>0.110487</td>\n",
              "      <td>0.1</td>\n",
              "      <td>linear</td>\n",
              "      <td>550</td>\n",
              "      <td>{'learning_rate': 0.1, 'loss': 'linear', 'n_es...</td>\n",
              "      <td>0.465473</td>\n",
              "      <td>-0.354240</td>\n",
              "      <td>0.055616</td>\n",
              "      <td>0.409857</td>\n",
              "      <td>6</td>\n",
              "    </tr>\n",
              "    <tr>\n",
              "      <th>2</th>\n",
              "      <td>0.006262</td>\n",
              "      <td>0.001490</td>\n",
              "      <td>0.000000</td>\n",
              "      <td>0.000000</td>\n",
              "      <td>0.1</td>\n",
              "      <td>linear</td>\n",
              "      <td>150.2</td>\n",
              "      <td>{'learning_rate': 0.1, 'loss': 'linear', 'n_es...</td>\n",
              "      <td>NaN</td>\n",
              "      <td>NaN</td>\n",
              "      <td>NaN</td>\n",
              "      <td>NaN</td>\n",
              "      <td>10</td>\n",
              "    </tr>\n",
              "  </tbody>\n",
              "</table>\n",
              "</div>"
            ],
            "text/plain": [
              "   mean_fit_time  std_fit_time  ...  std_test_score  rank_test_score\n",
              "0       1.961981      0.009328  ...        0.026375                1\n",
              "1       3.867487      0.026259  ...        0.007157                2\n",
              "3       9.047287      0.327601  ...        0.293044                3\n",
              "4       9.918423      1.157060  ...        0.358139                4\n",
              "5      10.683921      2.080943  ...        0.409073                5\n",
              "6      11.038654      2.437627  ...        0.409857                6\n",
              "7      10.936226      2.247820  ...        0.409857                6\n",
              "8      10.870328      2.350355  ...        0.409857                6\n",
              "9       9.143612      0.603750  ...        0.409857                6\n",
              "2       0.006262      0.001490  ...             NaN               10\n",
              "\n",
              "[10 rows x 13 columns]"
            ]
          },
          "metadata": {
            "tags": []
          },
          "execution_count": 61
        }
      ]
    },
    {
      "cell_type": "code",
      "metadata": {
        "id": "wBdJ60p9vR_S"
      },
      "source": [
        "from sklearn.metrics import mean_squared_error\r\n",
        "import sklearn.metrics as metrics"
      ],
      "execution_count": null,
      "outputs": []
    },
    {
      "cell_type": "code",
      "metadata": {
        "id": "nxGdf-ljzQSR"
      },
      "source": [
        "\n",
        "# Definimos las listas vacias para los valores de accuracy deseados\n",
        "lista_train = []\n",
        "lista_test = []\n",
        "\n",
        "# Definimos la lista de valores de max_depth que vamos a explorar\n",
        "n_estimators= [5,10,50,100,150,200,250,300,350,400,450,500,550]\n",
        "\n",
        "# Generamos en loop sobre los distintos valores de profundidad \n",
        "for n_estimator in n_estimators:\n",
        "    \n",
        "    model_ada = GridSearchCV(ada,param_grid=params_ada, cv=2,n_jobs=-1)\n",
        "    #RFR = RandomForestRegressor(n_estimator, max_features='sqrt', n_jobs=-1, oob_score = True, random_state = 42)\n",
        "\n",
        "    # Entrenar el modelo\n",
        "    model_ada.fit(X_train, y_train)\n",
        "    #RFR.fit(X_train,y_train)\n",
        "    \n",
        "    # Predecir y evaluar sobre el set de entrenamiento\n",
        "    y_train_pred =model_ada.predict(X_train)\n",
        "    RMSE_train = np.sqrt(metrics.mean_squared_error(y_train, y_train_pred))\n",
        "    \n",
        "    # Predecir y evaluar sobre el set de evaluación\n",
        "    y_test_pred = model_ada.predict(X_test)\n",
        "    RMSE_test = np.sqrt(metrics.mean_squared_error(y_test, y_test_pred))\n",
        "    \n",
        "    # Agregar la información a las listas\n",
        "    lista_train.append(RMSE_train)\n",
        "    lista_test.append(RMSE_test)"
      ],
      "execution_count": null,
      "outputs": []
    },
    {
      "cell_type": "code",
      "metadata": {
        "id": "1pO28CrYzQSR",
        "colab": {
          "base_uri": "https://localhost:8080/",
          "height": 301
        },
        "outputId": "7d2ce749-c7f0-4287-bcf8-464fb1ba0c28"
      },
      "source": [
        "plt.plot(n_estimators,lista_train,'o-',label='train' )\n",
        "plt.plot(n_estimators,lista_test,'o-',label='test')\n",
        "plt.legend()\n",
        "plt.xlabel('N_estimators')\n",
        "plt.ylabel('RMSE')"
      ],
      "execution_count": null,
      "outputs": [
        {
          "output_type": "execute_result",
          "data": {
            "text/plain": [
              "Text(0, 0.5, 'RMSE')"
            ]
          },
          "metadata": {
            "tags": []
          },
          "execution_count": 67
        },
        {
          "output_type": "display_data",
          "data": {
            "image/png": "[encoded data removed]",
            "text/plain": [
              "<Figure size 432x288 with 1 Axes>"
            ]
          },
          "metadata": {
            "tags": []
          }
        }
      ]
    },
    {
      "cell_type": "markdown",
      "metadata": {
        "id": "RVZ-j49dfWhf"
      },
      "source": [
        "\n",
        "**COMPARACION DEL ERROR EN LOS TRES MODELOS** "
      ]
    },
    {
      "cell_type": "code",
      "metadata": {
        "id": "-_2ghkrMzQSS",
        "colab": {
          "base_uri": "https://localhost:8080/",
          "height": 1000
        },
        "outputId": "e60b599d-1e8c-4c65-a5b6-d5b942ff2e9d"
      },
      "source": [
        "from sklearn.metrics import mean_squared_error\n",
        "import seaborn as sns\n",
        "modelos = ['RandomforestRegressor', 'BaggingRegressor', 'AdaBoostRegressor']\n",
        "\n",
        "for i, model in enumerate([model_RF, mod_bagging, model_ada]):\n",
        "    y_train_pred = model.predict(X_train)\n",
        "    y_test_pred = model.predict(X_test)\n",
        "    \n",
        "    \n",
        "    print(f'Modelo: {modelos[i]}')\n",
        "\n",
        "    rmse_train = np.sqrt(mean_squared_error(y_train, y_train_pred))\n",
        "    rmse_test = np.sqrt(mean_squared_error(y_test, y_test_pred))\n",
        "    print(f'Raíz del error cuadrático medio en Train: {rmse_train}')\n",
        "    print(f'Raíz del error cuadrático medio en Test: {rmse_test}')\n",
        "    \n",
        "    plt.figure(figsize = (10,8))\n",
        "\n",
        "    plt.subplot(1,2,1)\n",
        "    sns.distplot(y_train - y_train_pred, bins = 20, label = 'train')\n",
        "    sns.distplot(y_test - y_test_pred, bins = 20, label = 'test')\n",
        "    plt.xlabel('errores')\n",
        "    plt.legend()\n",
        "\n",
        "\n",
        "    ax = plt.subplot(1,2,2)\n",
        "    ax.scatter(y_test,y_test_pred, s =2)\n",
        "    \n",
        "    lims = [\n",
        "    np.min([ax.get_xlim(), ax.get_ylim()]),  # min of both axes\n",
        "    np.max([ax.get_xlim(), ax.get_ylim()]),  # max of both axes]\n",
        "    ]\n",
        "    \n",
        "    ax.plot(lims, lims, 'k-', alpha=0.75, zorder=0)\n",
        "    plt.xlabel('y (test)')\n",
        "    plt.ylabel('y_pred (test)')\n",
        "    \n",
        "    plt.tight_layout()\n",
        "    plt.show()"
      ],
      "execution_count": null,
      "outputs": [
        {
          "output_type": "stream",
          "text": [
            "Modelo: RandomforestRegressor\n",
            "Raíz del error cuadrático medio en Train: 63594.928267516116\n",
            "Raíz del error cuadrático medio en Test: 131265.89911420745\n"
          ],
          "name": "stdout"
        },
        {
          "output_type": "stream",
          "text": [
            "/usr/local/lib/python3.6/dist-packages/seaborn/distributions.py:2557: FutureWarning: `distplot` is a deprecated function and will be removed in a future version. Please adapt your code to use either `displot` (a figure-level function with similar flexibility) or `histplot` (an axes-level function for histograms).\n",
            "  warnings.warn(msg, FutureWarning)\n",
            "/usr/local/lib/python3.6/dist-packages/seaborn/distributions.py:2557: FutureWarning: `distplot` is a deprecated function and will be removed in a future version. Please adapt your code to use either `displot` (a figure-level function with similar flexibility) or `histplot` (an axes-level function for histograms).\n",
            "  warnings.warn(msg, FutureWarning)\n"
          ],
          "name": "stderr"
        },
        {
          "output_type": "display_data",
          "data": {
            "image/png": "[encoded data removed]",
            "text/plain": [
              "<Figure size 720x576 with 2 Axes>"
            ]
          },
          "metadata": {
            "tags": []
          }
        },
        {
          "output_type": "stream",
          "text": [
            "Modelo: BaggingRegressor\n",
            "Raíz del error cuadrático medio en Train: 89148.9621951304\n",
            "Raíz del error cuadrático medio en Test: 160471.2943415638\n"
          ],
          "name": "stdout"
        },
        {
          "output_type": "stream",
          "text": [
            "/usr/local/lib/python3.6/dist-packages/seaborn/distributions.py:2557: FutureWarning: `distplot` is a deprecated function and will be removed in a future version. Please adapt your code to use either `displot` (a figure-level function with similar flexibility) or `histplot` (an axes-level function for histograms).\n",
            "  warnings.warn(msg, FutureWarning)\n",
            "/usr/local/lib/python3.6/dist-packages/seaborn/distributions.py:2557: FutureWarning: `distplot` is a deprecated function and will be removed in a future version. Please adapt your code to use either `displot` (a figure-level function with similar flexibility) or `histplot` (an axes-level function for histograms).\n",
            "  warnings.warn(msg, FutureWarning)\n"
          ],
          "name": "stderr"
        },
        {
          "output_type": "display_data",
          "data": {
            "image/png": "[encoded data removed]",
            "text/plain": [
              "<Figure size 720x576 with 2 Axes>"
            ]
          },
          "metadata": {
            "tags": []
          }
        },
        {
          "output_type": "stream",
          "text": [
            "Modelo: AdaBoostRegressor\n",
            "Raíz del error cuadrático medio en Train: 193739.1944220472\n",
            "Raíz del error cuadrático medio en Test: 228045.7363662213\n"
          ],
          "name": "stdout"
        },
        {
          "output_type": "stream",
          "text": [
            "/usr/local/lib/python3.6/dist-packages/seaborn/distributions.py:2557: FutureWarning: `distplot` is a deprecated function and will be removed in a future version. Please adapt your code to use either `displot` (a figure-level function with similar flexibility) or `histplot` (an axes-level function for histograms).\n",
            "  warnings.warn(msg, FutureWarning)\n",
            "/usr/local/lib/python3.6/dist-packages/seaborn/distributions.py:2557: FutureWarning: `distplot` is a deprecated function and will be removed in a future version. Please adapt your code to use either `displot` (a figure-level function with similar flexibility) or `histplot` (an axes-level function for histograms).\n",
            "  warnings.warn(msg, FutureWarning)\n"
          ],
          "name": "stderr"
        },
        {
          "output_type": "display_data",
          "data": {
            "image/png": "[encoded data removed]",
            "text/plain": [
              "<Figure size 720x576 with 2 Axes>"
            ]
          },
          "metadata": {
            "tags": []
          }
        }
      ]
    },
    {
      "cell_type": "markdown",
      "metadata": {
        "id": "gPtwQP6ZzQSS"
      },
      "source": [
        "---\n",
        "\n",
        "<br />\n",
        "<br />\n",
        "\n",
        "# PARTE C - PREGUNTAS\n",
        "<br />\n",
        "<br />\n",
        "\n",
        "---"
      ]
    },
    {
      "cell_type": "markdown",
      "metadata": {
        "id": "AUBaOrNYC4PK"
      },
      "source": [
        "### Preguntas:\n",
        "\n",
        "\n",
        "\n",
        "¿Qué variables fueron relevantes para el modelo para hacer una predicción? ¿Cuáles no? Si usaste una regresión lineal con regularización, presta atención a los parámetros (pendientes) obtenidas. Si usaste un modelo de ensamble en árboles, además de ver la importancia de cada atributo, también elige algunos árboles al azar y observa qué atributos considera importantes. ¿En qué se diferencian esos árboles? ¿Por qué? Finalmente, responde, ¿coincide con lo que esperabas a partir de tu experiencia con este dataset?\n",
        "\n",
        "¿Cómo es la distribución de errores (regresión) o qué clases se confunden entre sí (clasificación)? ¿Dónde falla? ¿A qué se debe?\n",
        "\n"
      ]
    },
    {
      "cell_type": "markdown",
      "metadata": {
        "id": "M5_7Om_yzQSS"
      },
      "source": [
        "### Analisis y respuestas de las incognitas:\n",
        "\n",
        "\n",
        "\n",
        "Teniendo presente las etapas para una solución impecable de nuestro modelo, y aprendizajes previos adquiridos en el desarrollo de nuestro proyecto 1, se considero realizar unos ajustes incorporando nuevas temáticas en base a la implementación de nuevos modelos avanzados y seleccionado hiperparametros adecuados. Como sabemos el objetivo principal es describir detalladamente los procedimientos que se tuvieron en cuenta en este proyecto 2. \n",
        "Por lo tanto, como primera mano se elaboró el análisis exploratorio, esto con la finalidad de familiarizarte con datos, saber de qué tratan y como se componen, identificando cuales podrían ser nuestros posibles features más relevantes y entender su comportamiento, comparándolo con los modelos usados en el proyecto 1 y el porcentaje de precisión de los mismos. En el momento de utilizar los mismo features se evidencia que a grandes rasgos no genero ningún tipo de cambio; se decidió cambiarlos he incorporar unas nuevas variables, las cuales fueron elegidas gracias a su comportamiento en el pre-procesamiento de los datos, ya que cumplen con una alta relación con nuestra variable y= Price, los cuales fueron :  “rooms”, “bedrooms”, “bathrooms”, “Surface_total”, “Property_Casa”, “Property_PH”, “Property_Departramento”; estas ultimas variables me causaron cierta curiosidad para abordarlas, ya que al realizar un desglose pertinente en el feature “Property_type”, se demostró que componen en gran parte el dataset con referencia a los demás, por tal motivo se selccionaron. \n",
        "En cuanto a lo modelos avanzados, quise vincular tres, los cuales fueron: RandomForestRegressor( Relacionado con nuestro modelo TreeDecisionRegressor), Bagging( Abordaron como primera medida nuestro sesgo y varianza), y AdaBoostRegressor(Entrenando n-veces, el conjunto anterior, mejorando la optimización);Lo siguiente ha esto fue la etapa de ejecución de cada uno con el hiper-parametro “GridSearch”, los resultados fueron los siguientes:\n",
        "-\tRandomForestRegressor:\n",
        "•\tRmse en train = 63594\n",
        "•\tRmse en test = 131265\n",
        "•\tPrecisión= 0,9633…….\n",
        "•\tVariables destacadas= “Property_Casa”, “Surface_total”, “bathrooms”,\n",
        "\n",
        "-\tBaggingRegressor:\n",
        "•\tRmse en train = 89142\n",
        "•\tRmse en test=160296\n",
        "•\tPrecisión= 0,9280…….\n",
        "\n",
        "-\tAdaboostRegressor:\n",
        "•\tRmse en train = 193739\n",
        "•\tRmse en test = 228045\n",
        "•\tPrecisión= 0,6656……\n",
        "•\tVariables destacadas= “rooms”, “Property_Casa”, “Surface_total”,\n",
        "\n",
        "Según lo anteriormente escrito se puede mostrar que el  mejor desempeño de los modelos fue  RandomForest Regressor con alta preciso del 0,96 y  Rmse menores a los otros modelos, además de manejar  parámetro de n-estimatiors=550, y al  compararlo con nuestro mejor modelo de nuestro proyecto 1 el cual fue TreeDecisionRegressor, se efectuo un re-entrenamiento con estas mismas variables en nuestra “x” sin  cambiar el eje “y” se dedujo que el entrenamiento realizado tuvo un mejor precisión pasando de 0,80 a 0,95, utilizando le mismo maxdepth=18, esto nos hace pensar que no debemos descartar variables porque si, antes se debe realizar un debido análisis a cada una de ellas, para asociar  o no en nuestros modelos. \n",
        "Como comentaba en mi reseña del proyecto 1, seria conveniente saber porque este tipo de propiedades, se encuentran con mayor presencia para la venta de las mismas; no se conoce si anteriormente el proceso de construcción de este dataset, se tuvieron en cuenta otro tipo de temas , ya sea culturales, convivenciales, económicos, políticos, según su ubicación, es pertinente considerar hoy en día el tipo de personas que cuenta con solventacion económico, esto quiere decir que están dispuestas ha invertir en dicha propiedad y responder por los gastos que allí se generen, además de cumplir con el perfil de un posible comprador , el cual  ayudaría a conocer nuestros posibles clientes de primera mano, para la venta o arriendos de los  inmuebles, a su vez se podría predecir mejor que tipo de propiedad son mas atractivas para nuestro consumidores. \n",
        "\n"
      ]
    },
    {
      "cell_type": "markdown",
      "metadata": {
        "id": "h8wx3Kk4zQSS"
      },
      "source": [
        "---\n",
        "\n",
        "<br />\n",
        "<br />\n",
        "\n",
        "# DESAFIO\n",
        "<br />\n",
        "<br />\n",
        "\n",
        "---"
      ]
    },
    {
      "cell_type": "markdown",
      "metadata": {
        "id": "VKUB88t8zQST"
      },
      "source": [
        "### Arreglo de Features automático\n",
        "\n",
        "En cuanto al desafio se decidio un realizar una reduccion de dimensionalidad, esto con la finalidad de de mejorar los atributos para entrenar los modelos y mejorar su precision. \n",
        "\n",
        "\n",
        "\n"
      ]
    },
    {
      "cell_type": "code",
      "metadata": {
        "id": "egOR6WbuzQST"
      },
      "source": [
        "X= df2[[\"rooms\",\"bedrooms\",\"surface_total\",\"bathrooms\"]]\n",
        "y=df2.price"
      ],
      "execution_count": null,
      "outputs": []
    },
    {
      "cell_type": "code",
      "metadata": {
        "id": "VB-QA5z2zQST"
      },
      "source": [
        "from sklearn.decomposition import PCA\n",
        "\n",
        "pca = PCA(n_components=2)\n",
        "X_nuevo = pca.fit_transform(X) "
      ],
      "execution_count": null,
      "outputs": []
    },
    {
      "cell_type": "code",
      "metadata": {
        "id": "McL3AqX-zQST",
        "outputId": "6d305036-7f9f-470b-e56f-f5682c7eb412"
      },
      "source": [
        "pca.components_"
      ],
      "execution_count": null,
      "outputs": [
        {
          "output_type": "execute_result",
          "data": {
            "text/plain": [
              "array([[ 9.14794549e-05,  7.37887108e-05,  9.99999992e-01,\n",
              "         4.92016896e-05],\n",
              "       [ 7.31758321e-01,  5.88736506e-01, -1.27278500e-04,\n",
              "         3.43393461e-01]])"
            ]
          },
          "metadata": {
            "tags": []
          },
          "execution_count": 73
        }
      ]
    },
    {
      "cell_type": "code",
      "metadata": {
        "id": "kjANeo6zzQSU",
        "outputId": "4401ea42-4cae-45af-adf4-82c4b7c67220"
      },
      "source": [
        "plt.scatter(X_nuevo[:,0], X_nuevo[:,1], c = y)\n",
        "plt.xlabel('X_nuevo[:,0]')\n",
        "plt.ylabel('X_nuevo[:,1]')"
      ],
      "execution_count": null,
      "outputs": [
        {
          "output_type": "execute_result",
          "data": {
            "text/plain": [
              "Text(0, 0.5, 'X_nuevo[:,1]')"
            ]
          },
          "metadata": {
            "tags": []
          },
          "execution_count": 74
        },
        {
          "output_type": "display_data",
          "data": {
            "image/png": "[encoded data removed]",
            "text/plain": [
              "<Figure size 432x288 with 1 Axes>"
            ]
          },
          "metadata": {
            "tags": []
          }
        }
      ]
    },
    {
      "cell_type": "code",
      "metadata": {
        "id": "LIqtS8TizQSU"
      },
      "source": [
        "X_train, X_test, y_train, y_test = train_test_split(X_nuevo, y, test_size=0.33, random_state=42)"
      ],
      "execution_count": null,
      "outputs": []
    },
    {
      "cell_type": "code",
      "metadata": {
        "id": "6KfVtUt0zQSV",
        "outputId": "04c128ef-89e6-4878-f9fb-14eed4418131"
      },
      "source": [
        "regresor2 = DecisionTreeRegressor(max_depth = max_depth, random_state=42)\n",
        "regresor2.fit(X_train,y_train)"
      ],
      "execution_count": null,
      "outputs": [
        {
          "output_type": "execute_result",
          "data": {
            "text/plain": [
              "DecisionTreeRegressor(max_depth=24, random_state=42)"
            ]
          },
          "metadata": {
            "tags": []
          },
          "execution_count": 76
        }
      ]
    },
    {
      "cell_type": "code",
      "metadata": {
        "id": "mW-_tFz1zQSV",
        "outputId": "e47b558f-929c-4523-b65c-3e7f8a7d48ab"
      },
      "source": [
        "y_train_pred = regresor2.predict(X_train)\n",
        "y_test_pred = regresor2.predict(X_test)\n",
        "print(metrics.mean_squared_error(y_train, y_train_pred))\n",
        "print(metrics.mean_squared_error(y_test, y_test_pred))"
      ],
      "execution_count": null,
      "outputs": [
        {
          "output_type": "stream",
          "text": [
            "11069386235.824259\n",
            "30566707057.96065\n"
          ],
          "name": "stdout"
        }
      ]
    },
    {
      "cell_type": "code",
      "metadata": {
        "id": "_3v90XJ5zQSV",
        "outputId": "14359fc8-f7a0-45f6-fc77-fc17a211a5f4"
      },
      "source": [
        "print('DATOS DEL MODELO PCA')\n",
        "print()\n",
        "print('Precisión del modelo:')\n",
        "print(regresor2.score(X_train, y_train))"
      ],
      "execution_count": null,
      "outputs": [
        {
          "output_type": "stream",
          "text": [
            "DATOS DEL MODELO PCA\n",
            "\n",
            "Precisión del modelo:\n",
            "0.8997509684862072\n"
          ],
          "name": "stdout"
        }
      ]
    },
    {
      "cell_type": "code",
      "metadata": {
        "id": "1zUIzI0rzQSW",
        "outputId": "650a6a02-f011-4e8c-a98f-42a9971678bb"
      },
      "source": [
        "regresor2.feature_importances_"
      ],
      "execution_count": null,
      "outputs": [
        {
          "output_type": "execute_result",
          "data": {
            "text/plain": [
              "array([0.76527295, 0.23472705])"
            ]
          },
          "metadata": {
            "tags": []
          },
          "execution_count": 79
        }
      ]
    },
    {
      "cell_type": "code",
      "metadata": {
        "id": "kAI51zBxzQSW"
      },
      "source": [
        "# Definimos las listas vacias para los valores de accuracy deseados\n",
        "lista_train = []\n",
        "lista_test = []\n",
        "\n",
        "# Definimos la lista de valores de max_depth que vamos a explorar\n",
        "max_depths= [5,10,50,100,150,200,250,300,350,400,450,500,550]\n",
        "\n",
        "# Generamos en loop sobre los distintos valores de profundidad \n",
        "for max_depth in max_depths:\n",
        "    \n",
        "    regresor2 = DecisionTreeRegressor(max_depth = max_depth, random_state=42)\n",
        "\n",
        "    #RFR = RandomForestRegressor(n_estimator, max_features='sqrt', n_jobs=-1, oob_score = True, random_state = 42)\n",
        "\n",
        "    # Entrenar el modelo\n",
        "    regresor2.fit(X_train, y_train)\n",
        "    #RFR.fit(X_train,y_train)\n",
        "    \n",
        "    # Predecir y evaluar sobre el set de entrenamiento\n",
        "    y_train_pred =regresor2.predict(X_train)\n",
        "    RMSE_train = np.sqrt(metrics.mean_squared_error(y_train, y_train_pred))\n",
        "    \n",
        "    # Predecir y evaluar sobre el set de evaluación\n",
        "    y_test_pred = regresor2.predict(X_test)\n",
        "    RMSE_test = np.sqrt(metrics.mean_squared_error(y_test, y_test_pred))\n",
        "    \n",
        "    # Agregar la información a las listas\n",
        "    lista_train.append(RMSE_train)\n",
        "    lista_test.append(RMSE_test)"
      ],
      "execution_count": null,
      "outputs": []
    },
    {
      "cell_type": "code",
      "metadata": {
        "id": "ScH4eY2rzQSW",
        "outputId": "312ea85c-a220-4668-f9da-2045f35c4a74"
      },
      "source": [
        "plt.plot(n_estimators,lista_train,'o-',label='train' )\n",
        "plt.plot(n_estimators,lista_test,'o-',label='test')\n",
        "plt.legend()\n",
        "plt.xlabel('N_estimators')\n",
        "plt.ylabel('Exactitud')"
      ],
      "execution_count": null,
      "outputs": [
        {
          "output_type": "execute_result",
          "data": {
            "text/plain": [
              "Text(0, 0.5, 'Exactitud')"
            ]
          },
          "metadata": {
            "tags": []
          },
          "execution_count": 81
        },
        {
          "output_type": "display_data",
          "data": {
            "image/png": "[encoded data removed]",
            "text/plain": [
              "<Figure size 432x288 with 1 Axes>"
            ]
          },
          "metadata": {
            "tags": []
          }
        }
      ]
    },
    {
      "cell_type": "markdown",
      "metadata": {
        "id": "io3VGdpvzQSX"
      },
      "source": [
        "Con una presicion del modelo de  0.76, despues de hacer el arreglo de fetures automatico PCA en nuestra variable X, se puede evidenciar en la grafica que existe un muy alta varianza en el entrenamiento de nuestro modelo, por lo tanto al analizar debe existir un compartamiemnto no adecuado por parte de los datos que nos estan generando un leve sobreajuste.\n",
        "\n",
        "\n",
        "\n",
        "\n",
        "\n"
      ]
    },
    {
      "cell_type": "code",
      "metadata": {
        "id": "agUb3qBgzQSX"
      },
      "source": [
        "from sklearn.ensemble import RandomForestRegressor\r\n",
        "\r\n",
        "RFR = RandomForestRegressor( random_state = 42)\r\n",
        "param_RFR = {\"n_estimators\":[100, 500, 1000], \"criterion\":[\"mse\"], \"max_depth\":[None], \"max_features\":[\"sqrt\"], \"bootstrap\":[False]}\r\n",
        "\r\n",
        "\r\n",
        "from sklearn.model_selection import GridSearchCV #HIPERPARAMETRO DE OPTIMIZACION \r\n",
        "\r\n",
        "model_RF = GridSearchCV(RFR, param_RFR ,cv=4,n_jobs=-2)\r\n",
        "model_RF.fit(X_train,y_train)\r\n",
        "print (model_RF.best_params_)\r\n",
        "\r\n",
        "#forest = RandomForestRegressor(random_state=42)\r\n",
        "#params_forest = {\"n_estimators\":[500,1000,1500], \"criterion\":[\"mse\"], \"max_depth\":[None], \"max_features\":[\"sqrt\"], \"bootstrap\":[False]}"
      ],
      "execution_count": null,
      "outputs": []
    },
    {
      "cell_type": "code",
      "metadata": {
        "id": "g7hcvyg9zQSX"
      },
      "source": [
        ""
      ],
      "execution_count": null,
      "outputs": []
    }
  ]
}